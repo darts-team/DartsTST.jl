{
 "cells": [
  {
   "cell_type": "markdown",
   "id": "reverse-directive",
   "metadata": {},
   "source": [
    "# How to read in and use antenna pattern netCDF"
   ]
  },
  {
   "cell_type": "code",
   "execution_count": null,
   "id": "peaceful-population",
   "metadata": {},
   "outputs": [],
   "source": [
    "using NCDatasets\n",
    "using Plots\n",
    "\n",
    "# this creates a data structure, no data is read in yet\n",
    "ds = Dataset(\"../inputs/darts_ant_03192021.nc\");\n",
    "\n",
    "# create Hpol and Vpol groups, no data is read in yet\n",
    "hpol = ds.group[\"Hpol\"];\n",
    "vpol = ds.group[\"Vpol\"]\n",
    "\n"
   ]
  },
  {
   "cell_type": "markdown",
   "id": "communist-chapter",
   "metadata": {},
   "source": [
    "## Read and plot V-pol cuts"
   ]
  },
  {
   "cell_type": "code",
   "execution_count": null,
   "id": "developmental-proceeding",
   "metadata": {},
   "outputs": [],
   "source": [
    "# read V pol Azimuth Cuts from netCDF file\n",
    "copol_cut = vpol[\"copol_azimuth_cut_real\"]+vpol[\"copol_azimuth_cut_imag\"]im;\n",
    "xpol_cut = vpol[\"crosspol_azimuth_cut_real\"]+vpol[\"crosspol_azimuth_cut_imag\"]im;\n",
    "\n",
    "legstr = reshape([string(fr, \" GHz\") for fr in ds[\"frequency\"]], 1,3)\n",
    "\n",
    "# plot Magnitude\n",
    "p1 = plot(ds[\"cut_azimuth\"], 20*log10.(abs.(copol_cut)), \n",
    "    xlabel = \"Azimuth (deg)\", ylabel = \"Magnitude (dB)\", label=\"\",\n",
    "    title = \"Vpol Azimuth Magnitude\", ylims=(-80, 40))\n",
    "p1 = plot!(ds[\"cut_azimuth\"], 20*log10.(abs.(xpol_cut)), label=\"\", linestyle = :dot)\n",
    "\n",
    "# plot Phase\n",
    "p2 = plot(ds[\"cut_azimuth\"], 180/π*(angle.(copol_cut)), \n",
    "    label = legstr, legend = :bottomleft, xlabel = \"Azimuth (deg)\", \n",
    "    ylabel = \"Phase (deg)\", title = \"Vpol Azimuth Phase\", xlim=(-20,20))\n",
    "p2 = plot!(ds[\"cut_azimuth\"], 180/π*(angle.(xpol_cut)), label=\"\", linestyle = :dot,xlim=(-20,20))\n",
    "\n",
    "\n",
    "\n",
    "# read V pol Elevation Cuts from netCDF file\n",
    "copol_cut = vpol[\"copol_elevation_cut_real\"]+vpol[\"copol_elevation_cut_imag\"]im;\n",
    "xpol_cut = vpol[\"crosspol_elevation_cut_real\"]+vpol[\"crosspol_elevation_cut_real\"]im;\n",
    "\n",
    "# plot Magnitude\n",
    "p3 = plot(ds[\"cut_elevation\"], 20*log10.(abs.(copol_cut)), \n",
    "    xlabel = \"Elevation (deg)\", ylabel = \"Magnitude (dB)\", label=\"\",\n",
    "    title = \"Vpol Elevation Magnitude\", ylims=(-80, 40))\n",
    "p3 = plot!(ds[\"cut_elevation\"], 20*log10.(abs.(xpol_cut)), label=\"\", linestyle = :dot)\n",
    "\n",
    "# plot Phase\n",
    "p4 = plot(ds[\"cut_elevation\"], 180/π*(angle.(copol_cut)), \n",
    "    label = \"\", xlabel = \"Elevation (deg)\", ylabel = \"Phase (deg)\", title = \"Vpol Elevation Phase\")\n",
    "p4 = plot!(ds[\"cut_elevation\"], 180/π*(angle.(xpol_cut)), label=\"\", linestyle = :dot)\n",
    "\n",
    "\n",
    "plot(p1, p2, p3, p4, layout = (2,2))\n"
   ]
  },
  {
   "cell_type": "markdown",
   "id": "absolute-lambda",
   "metadata": {},
   "source": [
    "## plot H-pol Cuts"
   ]
  },
  {
   "cell_type": "code",
   "execution_count": null,
   "id": "united-trailer",
   "metadata": {
    "scrolled": false
   },
   "outputs": [],
   "source": [
    "# read H pol Azimuth Cuts from netCDF file\n",
    "copol_cut = hpol[\"copol_azimuth_cut_real\"]+hpol[\"copol_azimuth_cut_imag\"]im;\n",
    "xpol_cut = hpol[\"crosspol_azimuth_cut_real\"]+hpol[\"crosspol_azimuth_cut_imag\"]im;\n",
    "\n",
    "\n",
    "# plot Magnitude\n",
    "p1 = plot(ds[\"cut_azimuth\"], 20*log10.(abs.(copol_cut)), \n",
    "    label = \"\", xlabel = \"Azimuth (deg)\", ylabel = \"Magnitude (dB)\",\n",
    "    title = \"Hpol Azimuth Magnitude\", ylims=(-80, 40))\n",
    "p1 = plot!(ds[\"cut_azimuth\"], 20*log10.(abs.(xpol_cut)), label=\"\", linestyle = :dot)\n",
    "\n",
    "# plot Phase\n",
    "p2 = plot(ds[\"cut_azimuth\"], 180/π*(angle.(copol_cut)), \n",
    "    label = legstr, legend = :bottomleft, xlabel = \"Azimuth (deg)\", \n",
    "    ylabel = \"Phase (deg)\", title = \"Hpol Azimuth Phase\")\n",
    "p2 = plot!(ds[\"cut_azimuth\"], 180/π*(angle.(xpol_cut)), label=\"\", linestyle = :dot)\n",
    "\n",
    "\n",
    "\n",
    "# read H pol Elevation Cuts from netCDF file\n",
    "copol_cut = hpol[\"copol_elevation_cut_real\"]+hpol[\"copol_elevation_cut_imag\"]im;\n",
    "xpol_cut = hpol[\"crosspol_elevation_cut_real\"]+hpol[\"crosspol_elevation_cut_real\"]im;\n",
    "\n",
    "# plot Magnitude\n",
    "p3 = plot(ds[\"cut_elevation\"], 20*log10.(abs.(copol_cut)), \n",
    "    label = \"\", xlabel = \"Elevation (deg)\", ylabel = \"Magnitude (dB)\", \n",
    "    title = \"Hpol Elevation Magnitude\", ylims=(-80, 40))\n",
    "p3 = plot!(ds[\"cut_elevation\"], 20*log10.(abs.(xpol_cut)), label=\"\", linestyle = :dot)\n",
    "\n",
    "# plot Phase\n",
    "p4 = plot(ds[\"cut_elevation\"], 180/π*(angle.(copol_cut)), \n",
    "    label = \"\", xlabel = \"Elevation (deg)\", ylabel = \"Phase (deg)\", title = \"Hpol Elevation Phase\")\n",
    "p4 = plot!(ds[\"cut_elevation\"], 180/π*(angle.(xpol_cut)), label=\"\", linestyle = :dot)\n",
    "\n",
    "\n",
    "plot(p1, p2, p3, p4, layout = (2,2))\n"
   ]
  },
  {
   "cell_type": "markdown",
   "id": "general-black",
   "metadata": {},
   "source": [
    "## Read and plot V-pol center frequency grid"
   ]
  },
  {
   "cell_type": "code",
   "execution_count": null,
   "id": "charming-orientation",
   "metadata": {},
   "outputs": [],
   "source": [
    "# read V pol Azimuth Cuts from netCDF file\n",
    "copol_grid = vpol[\"copol_grid_real\"]+vpol[\"copol_grid_imag\"]im;\n",
    "xpol_grid = vpol[\"crosspol_grid_real\"]+vpol[\"crosspol_grid_imag\"]im;\n",
    "\n",
    "cfind = 2;\n",
    "# plot Magnitude\n",
    "p1 = heatmap(ds[\"grid_elevation\"], ds[\"grid_azimuth\"], 20*log10.(abs.(copol_grid[:,:,cfind])), \n",
    "    label = \"\", legend = :bottomleft, xlabel = \"Elevation (deg)\", ylabel = \"Azimuth (deg)\",\n",
    "    title = \"V-copol Grid Magnitude\", clim=(-80,40))\n",
    "p2 = heatmap(ds[\"grid_elevation\"], ds[\"grid_azimuth\"], 20*log10.(abs.(xpol_grid[:,:,cfind])), \n",
    "    label = \"\", legend = :bottomleft, xlabel = \"Elevation (deg)\", ylabel = \"Azimuth (deg)\",\n",
    "    title = \"V-crosspol Grid Magnitude\", clim=(-80,40))\n",
    "\n",
    "# plot Phase\n",
    "p3 = heatmap(ds[\"grid_elevation\"], ds[\"grid_azimuth\"], 180/π*(angle.(copol_grid[:,:,cfind])), \n",
    "    label = \"\", legend = :bottomleft, xlabel = \"Elevation (deg)\", ylabel = \"Azimuth (deg)\",\n",
    "    title = \"V-copol Grid Phase\")\n",
    "p4 = heatmap(ds[\"grid_elevation\"], ds[\"grid_azimuth\"], 180/π*(angle.(xpol_grid[:,:,cfind])), \n",
    "    label = \"\", legend = :bottomleft, xlabel = \"Elevation (deg)\", ylabel = \"Azimuth (deg)\",\n",
    "    title = \"V-crosspol Grid Phase\")\n",
    "\n",
    "plot(p1, p2, p3, p4, layout = (2,2))\n"
   ]
  },
  {
   "cell_type": "markdown",
   "id": "about-portuguese",
   "metadata": {},
   "source": [
    "## Read and plot H-pol center frequency grid"
   ]
  },
  {
   "cell_type": "code",
   "execution_count": null,
   "id": "macro-witch",
   "metadata": {},
   "outputs": [],
   "source": [
    "# read H pol Azimuth Cuts from netCDF file\n",
    "copol_grid = hpol[\"copol_grid_real\"]+hpol[\"copol_grid_imag\"]im;\n",
    "xpol_grid = hpol[\"crosspol_grid_real\"]+hpol[\"crosspol_grid_imag\"]im;\n",
    "\n",
    "cfind = 2;\n",
    "# plot Magnitude\n",
    "p1 = heatmap(ds[\"grid_elevation\"], ds[\"grid_azimuth\"], 20*log10.(abs.(copol_grid[:,:,cfind])), \n",
    "    label = \"\", legend = :bottomleft, xlabel = \"Elevation (deg)\", ylabel = \"Azimuth (deg)\",\n",
    "    title = \"H-copol Grid Magnitude\", clim=(-80,40))\n",
    "p2 = heatmap(ds[\"grid_elevation\"], ds[\"grid_azimuth\"], 20*log10.(abs.(xpol_grid[:,:,cfind])), \n",
    "    label = \"\", legend = :bottomleft, xlabel = \"Elevation (deg)\", ylabel = \"Azimuth (deg)\",\n",
    "    title = \"H-crosspol Grid Magnitude\", clim=(-80,40))\n",
    "\n",
    "# plot Phase\n",
    "p3 = heatmap(ds[\"grid_elevation\"], ds[\"grid_azimuth\"], 180/π*(angle.(copol_grid[:,:,cfind])), \n",
    "    label = \"\", legend = :bottomleft, xlabel = \"Elevation (deg)\", ylabel = \"Azimuth (deg)\",\n",
    "    title = \"H-copol Grid Phase\")\n",
    "p4 = heatmap(ds[\"grid_elevation\"], ds[\"grid_azimuth\"], 180/π*(angle.(xpol_grid[:,:,cfind])), \n",
    "    label = \"\", legend = :bottomleft, xlabel = \"Elevation (deg)\", ylabel = \"Azimuth (deg)\",\n",
    "    title = \"H-crosspol Grid Phase\")\n",
    "\n",
    "plot(p1, p2, p3, p4, layout = (2,2))"
   ]
  },
  {
   "cell_type": "markdown",
   "id": "ruled-tourism",
   "metadata": {},
   "source": [
    "# <u> Use AntCuts structure to read in principal cuts </u>"
   ]
  },
  {
   "cell_type": "code",
   "execution_count": null,
   "id": "outdoor-wonder",
   "metadata": {},
   "outputs": [],
   "source": [
    "include(\"../modules/antenna.jl\")\n",
    "\n",
    "# read in vpol cuts. By default this reads in V-pol 1.25GHz cuts\n",
    "vcuts = Antenna.AntCuts(\"../inputs/darts_ant_03192021.nc\");\n",
    "\n",
    "# read in Hpol cuts - need to specify Hpol for this to happen. Additionally specifying which frequency to read\n",
    "hcuts = Antenna.AntCuts(\"../inputs/darts_ant_03192021.nc\", \"Hpol\", [1.23, 1.27]);\n",
    "\n",
    "println(typeof(vcuts))\n",
    "println(typeof(hcuts))"
   ]
  },
  {
   "cell_type": "markdown",
   "id": "supposed-documentary",
   "metadata": {},
   "source": [
    "## plot V-pol cuts"
   ]
  },
  {
   "cell_type": "code",
   "execution_count": null,
   "id": "corporate-elephant",
   "metadata": {},
   "outputs": [],
   "source": [
    "\n",
    "# plot Az Magnitude\n",
    "p1 = plot(vcuts.cut_az, 20*log10.(abs.(vcuts.az_copol)), \n",
    "    xlabel = \"Azimuth (deg)\", ylabel = \"Magnitude (dB)\", label=string(vcuts.freqs[1], \" GHz\"),\n",
    "    title = \"Vpol Azimuth Magnitude\", ylims=(-80, 40))\n",
    "p1 = plot!(vcuts.cut_az, 20*log10.(abs.(vcuts.az_xpol)), label=\"\", linestyle = :dot)\n",
    "\n",
    "# plot Az Phase\n",
    "p2 = plot(vcuts.cut_az, 180/π*(angle.(vcuts.az_copol)), \n",
    "    label = \"\", xlabel = \"Azimuth (deg)\", \n",
    "    ylabel = \"Phase (deg)\", title = \"Vpol Azimuth Phase\")\n",
    "p2 = plot!(vcuts.cut_az, 180/π*(angle.(vcuts.az_xpol)), label=\"\", linestyle = :dot)\n",
    "\n",
    "\n",
    "# plot El Magnitude\n",
    "p3 = plot(vcuts.cut_el, 20*log10.(abs.(vcuts.el_copol)), \n",
    "    xlabel = \"Elevation (deg)\", ylabel = \"Magnitude (dB)\", label=\"\",\n",
    "    title = \"Vpol Elevation Magnitude\", ylims=(-80, 40))\n",
    "p3 = plot!(vcuts.cut_el, 20*log10.(abs.(vcuts.el_xpol)), label=\"\", linestyle = :dot)\n",
    "\n",
    "# plot Phase\n",
    "p4 = plot(vcuts.cut_el, 180/π*(angle.(vcuts.el_copol)), \n",
    "    label = \"\", xlabel = \"Elevation (deg)\", ylabel = \"Phase (deg)\", title = \"Vpol Elevation Phase\")\n",
    "p4 = plot!(vcuts.cut_el, 180/π*(angle.(vcuts.el_xpol)), label=\"\", linestyle = :dot)\n",
    "\n",
    "\n",
    "plot(p1, p2, p3, p4, layout = (2,2))\n"
   ]
  },
  {
   "cell_type": "markdown",
   "id": "proper-change",
   "metadata": {},
   "source": [
    "## plot H-pol cuts"
   ]
  },
  {
   "cell_type": "code",
   "execution_count": null,
   "id": "dried-schedule",
   "metadata": {},
   "outputs": [],
   "source": [
    "legstr = reshape([string(fr, \" GHz\") for fr in hcuts.freqs], 1,length(hcuts.freqs))\n",
    "\n",
    "# plot Az Magnitude\n",
    "p1 = plot(hcuts.cut_az, 20*log10.(abs.(hcuts.az_copol)), \n",
    "    xlabel = \"Azimuth (deg)\", ylabel = \"Magnitude (dB)\", label=legstr,\n",
    "    legend = :bottomleft, title = \"Hpol Azimuth Magnitude\", ylims=(-80, 40))\n",
    "p1 = plot!(vcuts.cut_az, 20*log10.(abs.(vcuts.az_xpol)), label=\"\", linestyle = :dot)\n",
    "\n",
    "# plot Az Phase\n",
    "p2 = plot(hcuts.cut_az, 180/π*(angle.(hcuts.az_copol)), \n",
    "    label = \"\", xlabel = \"Azimuth (deg)\", \n",
    "    ylabel = \"Phase (deg)\", title = \"Hpol Azimuth Phase\")\n",
    "p2 = plot!(hcuts.cut_az, 180/π*(angle.(hcuts.az_xpol)), label=\"\", linestyle = :dot)\n",
    "\n",
    "\n",
    "# plot El Magnitude\n",
    "p3 = plot(hcuts.cut_el, 20*log10.(abs.(hcuts.el_copol)), \n",
    "    xlabel = \"Elevation (deg)\", ylabel = \"Magnitude (dB)\", label=\"\",\n",
    "    title = \"Hpol Elevation Magnitude\", ylims=(-80, 40))\n",
    "p3 = plot!(hcuts.cut_el, 20*log10.(abs.(hcuts.el_xpol)), label=\"\", linestyle = :dot)\n",
    "\n",
    "# plot Phase\n",
    "p4 = plot(hcuts.cut_el, 180/π*(angle.(hcuts.el_copol)), \n",
    "    label = \"\", xlabel = \"Elevation (deg)\", ylabel = \"Phase (deg)\", title = \"Hpol Elevation Phase\")\n",
    "p4 = plot!(ds[\"cut_elevation\"], 180/π*(angle.(hcuts.el_xpol)), label=\"\", linestyle = :dot)\n",
    "\n",
    "\n",
    "plot(p1, p2, p3, p4, layout = (2,2))\n"
   ]
  },
  {
   "cell_type": "markdown",
   "id": "iraqi-fountain",
   "metadata": {},
   "source": [
    "# Use AntGrid structure to read in Grids"
   ]
  },
  {
   "cell_type": "code",
   "execution_count": null,
   "id": "freelance-recipe",
   "metadata": {},
   "outputs": [],
   "source": [
    "include(\"../modules/antenna.jl\")\n",
    "\n",
    "# read in vpol grid. By default this reads in V-pol 1.25GHz grid\n",
    "vgrid = Antenna.AntGrid(\"../inputs/darts_ant_03192021.nc\");\n",
    "\n",
    "# read in Hpol grid - need to specify Hpol for this to happen. Additionally specifying which frequency to read\n",
    "hgrid = Antenna.AntGrid(\"../inputs/darts_ant_03192021.nc\", \"Hpol\");\n",
    "\n",
    "println(typeof(vgrid))\n",
    "println(typeof(hgrid))"
   ]
  },
  {
   "cell_type": "markdown",
   "id": "golden-collection",
   "metadata": {},
   "source": [
    "## plot V-pol grids"
   ]
  },
  {
   "cell_type": "code",
   "execution_count": null,
   "id": "specified-inspection",
   "metadata": {},
   "outputs": [],
   "source": [
    "\n",
    "# plot Magnitude\n",
    "p1 = heatmap(vgrid.el, vgrid.az, 20*log10.(abs.(vgrid.copol)), \n",
    "    label = \"\", legend = :bottomleft, xlabel = \"Elevation (deg)\", ylabel = \"Azimuth (deg)\",\n",
    "    title = \"V-copol Grid Magnitude\", clim=(-80,40))\n",
    "p2 = heatmap(vgrid.el, vgrid.az, 20*log10.(abs.(vgrid.xpol)), \n",
    "    label = \"\", legend = :bottomleft, xlabel = \"Elevation (deg)\", ylabel = \"Azimuth (deg)\",\n",
    "    title = \"V-crosspol Grid Magnitude\", clim=(-80,40))\n",
    "\n",
    "# plot Phase\n",
    "p3 = heatmap(vgrid.el, vgrid.az, 180/π*(angle.(vgrid.copol)), \n",
    "    label = \"\", legend = :bottomleft, xlabel = \"Elevation (deg)\", ylabel = \"Azimuth (deg)\",\n",
    "    title = \"V-copol Grid Phase\")\n",
    "p4 = heatmap(vgrid.el, vgrid.az, 180/π*(angle.(vgrid.xpol)), \n",
    "    label = \"\", legend = :bottomleft, xlabel = \"Elevation (deg)\", ylabel = \"Azimuth (deg)\",\n",
    "    title = \"V-crosspol Grid Phase\")\n",
    "\n",
    "plot(p1, p2, p3, p4, layout = (2,2))"
   ]
  },
  {
   "cell_type": "markdown",
   "id": "chicken-eight",
   "metadata": {},
   "source": [
    "## plot H-pol grids"
   ]
  },
  {
   "cell_type": "code",
   "execution_count": null,
   "id": "intermediate-trainer",
   "metadata": {},
   "outputs": [],
   "source": [
    "# plot Magnitude\n",
    "p1 = heatmap(hgrid.el, hgrid.az, 20*log10.(abs.(hgrid.copol)), \n",
    "    label = \"\", legend = :bottomleft, xlabel = \"Elevation (deg)\", ylabel = \"Azimuth (deg)\",\n",
    "    title = \"H-copol Grid Magnitude\", clim=(-80,40))\n",
    "p2 = heatmap(hgrid.el, hgrid.az, 20*log10.(abs.(hgrid.xpol)), \n",
    "    label = \"\", legend = :bottomleft, xlabel = \"Elevation (deg)\", ylabel = \"Azimuth (deg)\",\n",
    "    title = \"H-crosspol Grid Magnitude\", clim=(-80,40))\n",
    "\n",
    "# plot Phase\n",
    "p3 = heatmap(hgrid.el, hgrid.az, 180/π*(angle.(hgrid.copol)), \n",
    "    label = \"\", legend = :bottomleft, xlabel = \"Elevation (deg)\", ylabel = \"Azimuth (deg)\",\n",
    "    title = \"H-copol Grid Phase\")\n",
    "p4 = heatmap(hgrid.el, hgrid.az, 180/π*(angle.(hgrid.xpol)), \n",
    "    label = \"\", legend = :bottomleft, xlabel = \"Elevation (deg)\", ylabel = \"Azimuth (deg)\",\n",
    "    title = \"H-crosspol Grid Phase\")\n",
    "\n",
    "plot(p1, p2, p3, p4, layout = (2,2))"
   ]
  }
 ],
 "metadata": {
  "kernelspec": {
   "display_name": "Julia 1.5.3",
   "language": "julia",
   "name": "julia-1.5"
  },
  "language_info": {
   "file_extension": ".jl",
   "mimetype": "application/julia",
   "name": "julia",
   "version": "1.5.3"
  }
 },
 "nbformat": 4,
 "nbformat_minor": 5
}
