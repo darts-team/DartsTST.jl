{
 "cells": [
  {
   "cell_type": "markdown",
   "id": "considerable-interstate",
   "metadata": {},
   "source": [
    "# Convert between Lat/Long/Height and ECEF XYZ\n",
    "\n"
   ]
  },
  {
   "cell_type": "code",
   "execution_count": null,
   "id": "alpine-selection",
   "metadata": {},
   "outputs": [],
   "source": [
    "include(\"../modules/geometry.jl\")\n",
    "\n",
    "#example Lat/Long/Height\n",
    "geo=[35.38987,-111.8116,9748.89523]\n",
    "println(\"GEO: \", geo)\n",
    "\n",
    "#compute ECEF XYZ based LLH\n",
    "xyz = Geometry.geo_to_xyz(geo)\n",
    "println(\"GEO -> XYZ: \", xyz)\n",
    "\n",
    "#convert XYZ back to LLH\n",
    "geo = Geometry.xyz_to_geo(xyz)\n",
    "println(\"GEO -> XYZ -> GEO\", geo)\n",
    "\n",
    "#convert lots of LLH points to XYZ\n",
    "@time xyz = Geometry.geo_to_xyz(repeat(geo, 1, 1000))\n",
    "\n",
    "#convert lots of XYZ points to LLH\n",
    "@time geo = Geometry.xyz_to_geo(xyz)\n"
   ]
  },
  {
   "cell_type": "markdown",
   "id": "rough-shareware",
   "metadata": {},
   "source": [
    "# Convert SCH coordinates to Approximate ECEF XYZ "
   ]
  },
  {
   "cell_type": "code",
   "execution_count": null,
   "id": "moral-parts",
   "metadata": {},
   "outputs": [],
   "source": [
    "include(\"../modules/geometry.jl\")\n",
    "\n",
    "#create PEG point based on (lat,long,heading) (peg point is origin of SCH CS)\n",
    "peg = Geometry.PegPoint(35.2117072245, -111.8112805579, 179.8535529463)\n",
    "\n",
    "#example SCH coordinate\n",
    "sch=[-19766.4,23.145535442,9748.895229822]\n",
    "\n",
    "#convert SCH coordinate to XYZ\n",
    "xyz = Geometry.sch_to_xyz(sch, peg)\n",
    "println(\"SCH -> XYZ\", xyz)\n",
    "\n",
    "#convert lots of SCH to XYZ. This would be how one would convert an sch grid to an XYZ grid\n",
    "@time xyz = Geometry.sch_to_xyz(repeat(sch,1, 1000), peg)"
   ]
  },
  {
   "cell_type": "markdown",
   "id": "damaged-simon",
   "metadata": {},
   "source": [
    "# Working with Quaternions for vector and frame rotations"
   ]
  },
  {
   "cell_type": "code",
   "execution_count": null,
   "id": "associate-mercury",
   "metadata": {},
   "outputs": [],
   "source": [
    "include(\"../modules/geometry.jl\")\n",
    "\n",
    "#create quaternion q(θ, v) to describe rotation of θ (degrees), about vector v (unit)\n",
    "q = Geometry.quat(45, [0,1,0]) #create a quaternion to rotate a vector by 45 degrees about yaxis [0,1,0]\n",
    "\n",
    "#rotate a vector using the quaternion\n",
    "vec = [1,0,0];\n",
    "#rotate the vector\n",
    "rotated_vec = Geometry.rotate_vec([1,0,0], q) #rotate a vector aligned with the x-axis, by q\n",
    "println(\"Original vector: \", vec)\n",
    "println(\"Rotated Vector: \", rotated_vec)\n"
   ]
  },
  {
   "cell_type": "markdown",
   "id": "significant-italy",
   "metadata": {},
   "source": [
    "## Combined Vector Rotations\n",
    "- Vector rotations can be combined by simply multiplying quaternions. \n",
    "- The convention chosen here enforces left multiplication order\n",
    "    - ie. qr = q1 * q2 means rotate about q2 first then q1"
   ]
  },
  {
   "cell_type": "code",
   "execution_count": null,
   "id": "metric-childhood",
   "metadata": {},
   "outputs": [],
   "source": [
    "#create three rotation quaternions\n",
    "qx = Geometry.quat(90, [1,0,0]) #create a quaternion to rotate a vector by 90 degrees about xaxis\n",
    "qy = Geometry.quat(90, [0,1,0]) #create a quaternion to rotate a vector by 90 degrees about yaxis\n",
    "qz = Geometry.quat(90, [0,0,1]) #create a quaternion to rotate a vector by 90 degrees about zaxis\n",
    "\n",
    "#vector to experiment with\n",
    "vec = [0.,1.,0.]\n",
    "println(\"Original Vector (no rotation): \", vec)\n",
    "\n",
    "\n",
    "#combine rotations using qy then qx (order is outside in)\n",
    "rotated_vec = Geometry.rotate_vec(vec, qy) #rotate a vector aligned with the x-axis, by qy*qx\n",
    "println(\"\\nRotated Vector (qy): \", rotated_vec)\n",
    "rotated_vec = Geometry.rotate_vec(vec, qx*qy) #rotate a vector aligned with the x-axis, by qy*qx\n",
    "println(\"Rotated Vector (qx*qy): \", rotated_vec)\n",
    "\n",
    "\n",
    "#combine rotations using qx then qy\n",
    "rotated_vec = Geometry.rotate_vec(vec, qx) #rotate a vector aligned with the x-axis, by qy*qx\n",
    "println(\"\\nRotated Vector, vr = v (*) qx: \", rotated_vec)\n",
    "rotated_vec = Geometry.rotate_vec(rotated_vec, qy) #rotate a vector aligned with the x-axis, by qy*qx\n",
    "println(\"Rotated Vector, vrr = vr (*) qy: \", rotated_vec)\n",
    "rotated_vec = Geometry.rotate_vec(vec, qy*qx) #rotate a vector aligned with the x-axis, by qy*qx\n",
    "println(\"Rotated Vector vr = v (*) qy*qx: \", rotated_vec)\n",
    "\n",
    "\n",
    "#all combinations of the three rotations\n",
    "rotated_vec = Geometry.rotate_vec(vec, qx*qy*qz) #rotate a vector aligned with the x-axis, by qx*qy*qz\n",
    "println(\"\\nCombined Rotated Vector, qx*qy*qz: \", rotated_vec)\n",
    "rotated_vec = Geometry.rotate_vec(vec, qx*qz*qy) #rotate a vector aligned with the x-axis, by qx*qz*qy\n",
    "println(\"Combined Rotated Vector, qx*qz*qy: \", rotated_vec)\n",
    "rotated_vec = Geometry.rotate_vec(vec, qy*qx*qz) #rotate a vector aligned with the x-axis, by qy*qx*qz\n",
    "println(\"Combined Rotated Vector, qy*qx*qz: \", rotated_vec)\n",
    "rotated_vec = Geometry.rotate_vec(vec, qy*qz*qx) #rotate a vector aligned with the x-axis, by qy*qz*qx\n",
    "println(\"Combined Rotated Vector, qy*qz*qx: \", rotated_vec)\n",
    "rotated_vec = Geometry.rotate_vec(vec, qz*qy*qx) #rotate a vector aligned with the x-axis, by qz*qy*qx\n",
    "println(\"Combined Rotated Vector, qz*qy*qx: \", rotated_vec)\n",
    "rotated_vec = Geometry.rotate_vec(vec, qz*qx*qy) #rotate a vector aligned with the x-axis, by qz*qx*qy\n",
    "println(\"Combined Rotated Vector, qz*qx*qy: \", rotated_vec)\n"
   ]
  },
  {
   "cell_type": "markdown",
   "id": "favorite-lemon",
   "metadata": {},
   "source": [
    "# Frame Rotations (or vector projection)\n",
    "The frame a vector is described in is rotated, resulting in a modified description of the original vector (in other words, projection). \n",
    "This ends up being the opposite operation of a vector rotation "
   ]
  },
  {
   "cell_type": "code",
   "execution_count": null,
   "id": "artificial-packing",
   "metadata": {},
   "outputs": [],
   "source": [
    "# rotate a frame, then describe vector in the rotated frame\n",
    "\n",
    "#define vector to project \n",
    "vec = [1.0, 0.0, 0.0]\n",
    "println(\"\\nOrignial Vector: \", vec);\n",
    "\n",
    "#create frame rotation quaternions \n",
    "qy = Geometry.quat(90, [0,1,0]) #create a quaternion to rotate a frame by 90 degrees about yaxis [0,1,0]\n",
    "qz= Geometry.quat(90, [0,0,1]) #create a quaternion to rotate a frame by 90deg about z-axis\n",
    "\n",
    "#project and print vectors\n",
    "projected_vec = Geometry.rotate_frame(vec, qy) #project a vector aligned with the x-axis, to a rotated frame described by q\n",
    "println(\"Projected Vector: \", projected_vec)\n",
    "\n",
    "projected_vec = Geometry.rotate_frame(vec, qz) #project a vector aligned with the x-axis, to a rotated frame described by q\n",
    "println(\"Projected Vector: \", projected_vec)\n"
   ]
  },
  {
   "cell_type": "markdown",
   "id": "protected-bankruptcy",
   "metadata": {},
   "source": [
    "## Combining rotations for Frame Rotations\n",
    "Quaternion multiplication can be thought of in two ways, extrinsic vs. intrinsic rotations:\n",
    " - Intrinsic rotation: second rotation is about rotated frame\n",
    "    + q = q1*q2 = rotate q1 and then rotate q2 about rotated frame (intrinsic)\n",
    " - extrinsic rotation: second rotation is about the original frmae\n",
    "    + q = q2*q1 = rotate q1 and then rotate q2 about original frame (extrinsic)"
   ]
  },
  {
   "cell_type": "code",
   "execution_count": 44,
   "id": "genuine-passing",
   "metadata": {},
   "outputs": [
    {
     "name": "stdout",
     "output_type": "stream",
     "text": [
      "Intrinsic projected vector [zero rotations]: [0.0, 0.0, 1.0]\n",
      "Intrinsic projected vector [first rotation]: [0.0, 0.0, 1.0]\n",
      "Intrinsic projected vector [second rotation]: [-1.0, 0.0, 0.0]\n",
      "\n",
      "Extrinsic projected vector [zero rotations]: [0.0, 0.0, 1.0]\n",
      "Extrinsic projected vector [first rotation]: [0.0, 0.0, 1.0]\n",
      "Extrinsic projected vector [second rotation]: [0.0, 1.0, 0.0]\n"
     ]
    },
    {
     "name": "stderr",
     "output_type": "stream",
     "text": [
      "WARNING: replacing module Geometry.\n"
     ]
    }
   ],
   "source": [
    "include(\"../modules/geometry.jl\")\n",
    "\n",
    "qy = Geometry.quat(90, [0,1,0]) #create a quaternion to rotate a frame by 90 degrees about yaxis [0,1,0]\n",
    "qz= Geometry.quat(90, [0,0,1]) #create a quaternion to rotate a frame by 90deg about z-axis\n",
    "\n",
    "#original vector\n",
    "vec = [0.0,0.0,1.0];\n",
    "\n",
    "#Intrinsic Rotation Example\n",
    "#Rotate about z-axis, to get x'y'z', then rotate about y' axis\n",
    "println(\"Intrinsic projected vector [zero rotations]: \", vec)\n",
    "projected_vec = Geometry.rotate_frame(vec, qz) \n",
    "println(\"Intrinsic projected vector [first rotation]: \", projected_vec)\n",
    "projected_vec = Geometry.rotate_frame(vec, qz*qy) \n",
    "println(\"Intrinsic projected vector [second rotation]: \", projected_vec)\n",
    "\n",
    "#Extrinsic Rotation Example\n",
    "println(\"\\nExtrinsic projected vector [zero rotations]: \", vec)\n",
    "projected_vec = Geometry.rotate_frame(vec, qz) \n",
    "println(\"Extrinsic projected vector [first rotation]: \", projected_vec)\n",
    "projected_vec = Geometry.rotate_frame(vec, qy*qz) \n",
    "println(\"Extrinsic projected vector [second rotation]: \", projected_vec)\n"
   ]
  }
 ],
 "metadata": {
  "kernelspec": {
   "display_name": "Julia 1.5.3",
   "language": "julia",
   "name": "julia-1.5"
  },
  "language_info": {
   "file_extension": ".jl",
   "mimetype": "application/julia",
   "name": "julia",
   "version": "1.5.3"
  }
 },
 "nbformat": 4,
 "nbformat_minor": 5
}
