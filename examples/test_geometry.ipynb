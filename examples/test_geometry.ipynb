{
 "cells": [
  {
   "cell_type": "markdown",
   "id": "involved-burlington",
   "metadata": {},
   "source": [
    "# Convert between Lat/Long/Height and ECEF XYZ\n",
    "\n"
   ]
  },
  {
   "cell_type": "code",
   "execution_count": 11,
   "id": "varying-sunday",
   "metadata": {},
   "outputs": [
    {
     "name": "stdout",
     "output_type": "stream",
     "text": [
      "GEO: [35.38987, -111.8116, 9748.89523]\n"
     ]
    },
    {
     "name": "stderr",
     "output_type": "stream",
     "text": [
      "WARNING: replacing module Geometry.\n"
     ]
    },
    {
     "name": "stdout",
     "output_type": "stream",
     "text": [
      "GEO -> XYZ: [-1.9370856627101207e6, -4.840217451858883e6, 3.6788596091408627e6]\n",
      "GEO -> XYZ -> GEO[35.3898700000064, -111.81160000000001, 9748.895230504684]\n",
      "  0.102775 seconds (361.41 k allocations: 16.774 MiB)\n",
      "  0.133940 seconds (332.47 k allocations: 14.778 MiB, 5.74% gc time)\n"
     ]
    },
    {
     "data": {
      "text/plain": [
       "3×1000 Array{Float64,2}:\n",
       "   35.3899    35.3899    35.3899  …    35.3899    35.3899    35.3899\n",
       " -111.812   -111.812   -111.812      -111.812   -111.812   -111.812\n",
       " 9748.9     9748.9     9748.9        9748.9     9748.9     9748.9"
      ]
     },
     "execution_count": 11,
     "metadata": {},
     "output_type": "execute_result"
    }
   ],
   "source": [
    "include(\"../modules/geometry.jl\")\n",
    "\n",
    "#example Lat/Long/Height\n",
    "geo=[35.38987,-111.8116,9748.89523]\n",
    "println(\"GEO: \", geo)\n",
    "\n",
    "#compute ECEF XYZ based LLH\n",
    "xyz = Geometry.geo_to_xyz(geo)\n",
    "println(\"GEO -> XYZ: \", xyz)\n",
    "\n",
    "#convert XYZ back to LLH\n",
    "geo = Geometry.xyz_to_geo(xyz)\n",
    "println(\"GEO -> XYZ -> GEO\", geo)\n",
    "\n",
    "#convert lots of LLH points to XYZ\n",
    "@time xyz = Geometry.geo_to_xyz(repeat(geo, 1, 1000))\n",
    "\n",
    "#convert lots of XYZ points to LLH\n",
    "@time geo = Geometry.xyz_to_geo(xyz)\n"
   ]
  },
  {
   "cell_type": "markdown",
   "id": "choice-slovak",
   "metadata": {},
   "source": [
    "# Convert SCH coordinates to Approximate ECEF XYZ "
   ]
  },
  {
   "cell_type": "code",
   "execution_count": 16,
   "id": "suitable-norwegian",
   "metadata": {},
   "outputs": [
    {
     "name": "stdout",
     "output_type": "stream",
     "text": [
      "SCH -> XYZ[-1.9497034352294554e6; -4.845945391150809e6; 3.664721314257136e6]\n",
      "  0.000308 seconds (4.00 k allocations: 484.531 KiB)\n"
     ]
    },
    {
     "data": {
      "text/plain": [
       "3×1000 Array{Float64,2}:\n",
       " -1.9497e6   -1.9497e6   -1.9497e6   …  -1.9497e6   -1.9497e6   -1.9497e6\n",
       " -4.84595e6  -4.84595e6  -4.84595e6     -4.84595e6  -4.84595e6  -4.84595e6\n",
       "  3.66472e6   3.66472e6   3.66472e6      3.66472e6   3.66472e6   3.66472e6"
      ]
     },
     "execution_count": 16,
     "metadata": {},
     "output_type": "execute_result"
    }
   ],
   "source": [
    "#create PEG point based on LLH coordinates (peg point is origin of SCH CS)\n",
    "peg = Geometry.PegPoint(geo[1], geo[2], geo[3])\n",
    "\n",
    "#example SCH coordinate\n",
    "sch=[-19766.4,23.145535442,9748.895229822]\n",
    "\n",
    "#convert SCH coordinate to XYZ\n",
    "xyz = Geometry.sch_to_xyz(sch, peg)\n",
    "println(\"SCH -> XYZ\", xyz)\n",
    "\n",
    "#convert lots of SCH to XYZ. This would be how one would convert an sch grid to an XYZ grid\n",
    "@time xyz = Geometry.sch_to_xyz(repeat(sch,1, 1000), peg)"
   ]
  },
  {
   "cell_type": "markdown",
   "id": "talented-baseball",
   "metadata": {},
   "source": [
    "# Working with Quaternions for vector and frame rotations"
   ]
  },
  {
   "cell_type": "code",
   "execution_count": 19,
   "id": "instructional-twenty",
   "metadata": {},
   "outputs": [
    {
     "name": "stdout",
     "output_type": "stream",
     "text": [
      "Rotated Vector: [0.7071067811865475, 0.0, -0.7071067811865476]\n",
      "\n",
      "Rotated Vector: [1.0, 0.0, 0.0]\n",
      "Rotated Vector: [0.0, 0.0, -1.0]\n",
      "Rotated Vector: [0.0, 1.0, 0.0]\n",
      "Rotated Vector (q2*q1): [0.0, 0.0, -1.0]\n",
      "Rotated Vector (q1*q2): [0.0, 1.0, 0.0]\n",
      "Combined Rotated Vector, q1*q2*q3: [0.0, 0.0, 1.0]\n",
      "Combined Rotated Vector, q1*q3*q2: [0.0, 1.0, 0.0]\n",
      "Combined Rotated Vector, q2*q1*q3: [1.0, 0.0, 0.0]\n",
      "Combined Rotated Vector, q2*q3*q1: [0.0, 1.0, 0.0]\n",
      "Combined Rotated Vector, q3*q2*q1: [0.0, 0.0, -1.0]\n",
      "Combined Rotated Vector, q3*q1*q2: [-1.0, 0.0, 0.0]\n",
      "\n",
      "Projected Vector: [0.0, 0.0, 1.0]\n",
      "Projected Vector: [0.0, -1.0, 0.0]\n",
      "\n",
      "Intrinsic projected vector: [0.0, 0.0, 1.0]\n",
      "Extrinsic projected vector: [0.0, -1.0, 0.0]\n"
     ]
    }
   ],
   "source": [
    "q = Geometry.quat(45, [0,1,0]) #create a quaternion to rotate a vector by 45 degrees about yaxis [0,1,0]\n",
    "rotated_vec = Geometry.rotate_vec([1,0,0], q) #rotate a vector aligned with the x-axis, by q\n",
    "println(\"Rotated Vector: \", rotated_vec)\n",
    "\n",
    "\n",
    "# combine rotations q3*q2*q1 means first q1 then q2 then q3\n",
    "q1 = Geometry.quat(90, [1,0,0]) #create a quaternion to rotate a vector by 90 degrees about xaxis\n",
    "q2 = Geometry.quat(90, [0,1,0]) #create a quaternion to rotate a vector by 90 degrees about yaxis\n",
    "q3 = Geometry.quat(90, [0,0,1]) #create a quaternion to rotate a vector by 90 degrees about zaxis\n",
    "rotated_vec = Geometry.rotate_vec([1,0,0], q1) #rotate a vector aligned with the x-axis, by q1\n",
    "println(\"\\nRotated Vector: \", rotated_vec)\n",
    "rotated_vec = Geometry.rotate_vec([1,0,0], q2) #rotate a vector aligned with the x-axis, by q2\n",
    "println(\"Rotated Vector: \", rotated_vec)\n",
    "rotated_vec = Geometry.rotate_vec([1,0,0], q3) #rotate a vector aligned with the x-axis, by q3\n",
    "println(\"Rotated Vector: \", rotated_vec)\n",
    "rotated_vec = Geometry.rotate_vec([1,0,0], q2*q1) #rotate a vector aligned with the x-axis, by q2*q1\n",
    "println(\"Rotated Vector (q2*q1): \", rotated_vec)\n",
    "rotated_vec = Geometry.rotate_vec([1,0,0], q1*q2) #rotate a vector aligned with the x-axis, by q1*q2\n",
    "println(\"Rotated Vector (q1*q2): \", rotated_vec)\n",
    "rotated_vec = Geometry.rotate_vec([1,0,0], q1*q2*q3) #rotate a vector aligned with the x-axis, by q1*q2*q3\n",
    "println(\"Combined Rotated Vector, q1*q2*q3: \", rotated_vec)\n",
    "rotated_vec = Geometry.rotate_vec([1,0,0], q1*q3*q2) #rotate a vector aligned with the x-axis, by q1*q3*q2\n",
    "println(\"Combined Rotated Vector, q1*q3*q2: \", rotated_vec)\n",
    "rotated_vec = Geometry.rotate_vec([1,0,0], q2*q1*q3) #rotate a vector aligned with the x-axis, by q2*q1*q3\n",
    "println(\"Combined Rotated Vector, q2*q1*q3: \", rotated_vec)\n",
    "rotated_vec = Geometry.rotate_vec([1,0,0], q2*q3*q1) #rotate a vector aligned with the x-axis, by q2*q3*q1\n",
    "println(\"Combined Rotated Vector, q2*q3*q1: \", rotated_vec)\n",
    "rotated_vec = Geometry.rotate_vec([1,0,0], q3*q2*q1) #rotate a vector aligned with the x-axis, by q3*q2*q1\n",
    "println(\"Combined Rotated Vector, q3*q2*q1: \", rotated_vec)\n",
    "rotated_vec = Geometry.rotate_vec([1,0,0], q3*q1*q2) #rotate a vector aligned with the x-axis, by q3*q1*q2\n",
    "println(\"Combined Rotated Vector, q3*q1*q2: \", rotated_vec)\n",
    "\n",
    "# rotate a frame, then describe vector in the rotated frame\n",
    "qy = Geometry.quat(90, [0,1,0]) #create a quaternion to rotate a frame by 90 degrees about yaxis [0,1,0]\n",
    "qz= Geometry.quat(90, [0,0,1]) #create a quaternion to rotate a frame by 90deg about z-axis\n",
    "projected_vec = Geometry.rotate_frame([1,0,0], qy) #project a vector aligned with the x-axis, to a rotated frame described by q\n",
    "println(\"\\nProjected Vector: \", projected_vec)\n",
    "projected_vec = Geometry.rotate_frame([1,0,0], qz) #project a vector aligned with the x-axis, to a rotated frame described by q\n",
    "println(\"Projected Vector: \", projected_vec)\n",
    "# EXtrinsic vs. intrinsic rotations:\n",
    "# intrinsic rotation: second rotation is about rotated frame\n",
    "# extrinsic rotation: second rotation is about the original frmae\n",
    "# q1*q2 can be thought of in two ways:\n",
    "# (A) rotate q1 and then rotate q2 about rotated frame (intrinsic)\n",
    "# (B) rotate q2 first and then rotate q1 about original frame (extrinsic)\n",
    "projected_vec = Geometry.rotate_frame([1,0,0], qy*qz) #project a vector aligned with the x-axis, to a rotated frame described by q\n",
    "println(\"\\nIntrinsic projected vector: \", projected_vec)\n",
    "projected_vec = Geometry.rotate_frame([1,0,0], qz*qy) #project a vector aligned with the x-axis, to a rotated frame described by q\n",
    "println(\"Extrinsic projected vector: \", projected_vec)\n"
   ]
  },
  {
   "cell_type": "code",
   "execution_count": null,
   "id": "another-triumph",
   "metadata": {},
   "outputs": [],
   "source": []
  }
 ],
 "metadata": {
  "kernelspec": {
   "display_name": "Julia 1.5.3",
   "language": "julia",
   "name": "julia-1.5"
  },
  "language_info": {
   "file_extension": ".jl",
   "mimetype": "application/julia",
   "name": "julia",
   "version": "1.5.3"
  }
 },
 "nbformat": 4,
 "nbformat_minor": 5
}
