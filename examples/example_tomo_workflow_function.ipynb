{
 "cells": [
  {
   "cell_type": "code",
   "execution_count": null,
   "id": "76805e13",
   "metadata": {},
   "outputs": [],
   "source": [
    "# An example call of the tomo_workflow function\n",
    "# TODO -- should the includes be inside the function?\n",
    "# includes\n",
    "include(\"../modules/generate_raw_data.jl\")\n",
    "include(\"../modules/process_raw_data.jl\")\n",
    "include(\"../modules/geometry.jl\")\n",
    "include(\"../modules/scene.jl\")\n",
    "include(\"../modules/range_spread_function.jl\") # as RSF\n",
    "include(\"../modules/orbits.jl\")\n",
    "include(\"../modules/sync.jl\")\n",
    "include(\"../modules/error_sources.jl\")\n",
    "include(\"../modules/performance_metrics.jl\")\n",
    "include(\"../modules/antenna.jl\")\n",
    "include(\"../modules/simsetup.jl\")\n",
    "include(\"../modules/user_parameters.jl\")\n",
    "include(\"../modules/plotting.jl\")\n"
   ]
  },
  {
   "cell_type": "code",
   "execution_count": null,
   "id": "3b3a6bdc",
   "metadata": {},
   "outputs": [],
   "source": [
    "# Next is to call and validate the input parameters\n",
    "include(\"../inputs/predefined-input-parameters.jl\")\n",
    "params = UserParameters.inputParameters()\n",
    "\n",
    "# Check consistency of input parameters\n",
    "paramsIsValid = UserParameters.validateInputParams(params)"
   ]
  },
  {
   "cell_type": "code",
   "execution_count": null,
   "id": "73328efe",
   "metadata": {},
   "outputs": [],
   "source": [
    "include(\"../modules/tomo_workflow_function.jl\")\n",
    "# Here is the function call itself. Only the params is needed -- TODO: is this true?\n",
    "image_3D = TomoWorkflow.generate_tomo(params);"
   ]
  },
  {
   "cell_type": "code",
   "execution_count": null,
   "id": "c62aa97f",
   "metadata": {},
   "outputs": [],
   "source": [
    "# Based on input settings, calculate performance metrics\n",
    "# Calculate point target performance metrics\n",
    "resolutions, PSLRs, ISLRs, loc_errors, scene_axis11,scene_axis22,scene_axis33, PSF_metrics = Performance_Metrics.computePTPerformanceMetrics(image_3D, params)\n",
    "println(\"Resolutions: \",round.(resolutions,digits=8),\" in scene axes units\")\n",
    "println(\"Location Errors: \",round.(loc_errors,digits=8),\" in scene axes units\")\n",
    "println(\"PSLRs: \",round.(PSLRs,digits=2),\" dB\")\n",
    "println(\"ISLRs: \",round.(ISLRs,digits=2),\" dB\")\n",
    "println(\"PSF Peak Amplitude: \",round(maximum(20*log10.(image_3D)),digits=2),\" dB\")"
   ]
  },
  {
   "cell_type": "code",
   "execution_count": null,
   "id": "b2dbf515",
   "metadata": {},
   "outputs": [],
   "source": [
    "# Plotting a tomogram and/or cuts\n",
    "\n",
    "# Plots (1D PSF cuts are displayed by default in the performance.metrics module)\n",
    "if params.display_geometry || params.display_RSF_rawdata || params.display_input_scene || params.display_tomograms != 0\n",
    "    const display_geometry_coord_txt=Plotting.coordinates(params.display_geometry_coord)\n",
    "    const ts_coord_txt=Plotting.coordinates(params.ts_coord_sys)\n",
    "    if params.display_RSF_rawdata; Plotting.plot_RSF_rawdata(ft, t_rx, MF, Srx, Np, Nst, rawdata, params); end\n",
    "    if params.display_geometry\n",
    "        # convert platform and target locations to desired coordinate system\n",
    "        const p_loc,t_loc,s_loc=Geometry.convert_platform_target_scene_coordinates(Np,Nst,Nt,p_xyz,t_xyz_3xN,targets_loc,s_xyz_3xN,s_loc_3xN,avg_peg, params)\n",
    "        Plotting.plot_geometry(orbit_time,orbit_pos,p_loc,t_loc,s_loc,display_geometry_coord_txt)\n",
    "    end\n",
    "    if params.display_input_scene; Plotting.plot_input_scene(inputscene_3D, ts_coord_txt, params);end\n",
    "    if params.display_tomograms != 0; Plotting.plot_tomogram(image_3D, ts_coord_txt, scene_axis11, scene_axis22, scene_axis33, PSF_metrics, params);end\n",
    "    if params.display_input_scene; Plotting.plot_input_scene(diff_image3D, ts_coord_txt, params);end\n",
    "end"
   ]
  },
  {
   "cell_type": "code",
   "execution_count": null,
   "id": "8b51db27",
   "metadata": {},
   "outputs": [],
   "source": [
    "# Example loop over aperture start times and calc metrics over partial orbit\n",
    "aperture_time_vec = 0 : 100 : 1000\n",
    "resolution_results = Array{Float64}(undef,length(aperture_time_vec))\n",
    "\n",
    "for i = 1 : length(aperture_time_vec)\n",
    "    aperture_time = aperture_time_vec[i]\n",
    "    params = UserParameters.inputParameters(SAR_start_time = aperture_time, user_defined_orbit=0)\n",
    "    image_3D = TomoWorkflow.generate_tomo(params);\n",
    "    \n",
    "    #calc metrics\n",
    "    resolutions, PSLRs, ISLRs, loc_errors, scene_axis11,scene_axis22,scene_axis33, PSF_metrics = Performance_Metrics.computePTPerformanceMetrics(image_3D, params)\n",
    "    resolution_results[i] = resolutions\n",
    "end#aperture_time\n",
    "\n",
    "plot(aperture_time_vec, resolution_results)"
   ]
  }
 ],
 "metadata": {
  "kernelspec": {
   "display_name": "Julia 1.6.2",
   "language": "julia",
   "name": "julia-1.6"
  },
  "language_info": {
   "file_extension": ".jl",
   "mimetype": "application/julia",
   "name": "julia",
   "version": "1.6.2"
  }
 },
 "nbformat": 4,
 "nbformat_minor": 5
}
