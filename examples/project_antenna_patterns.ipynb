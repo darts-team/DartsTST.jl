{
 "cells": [
  {
   "cell_type": "markdown",
   "id": "brown-receiver",
   "metadata": {},
   "source": [
    "## project antenna pattern on the ellipsoid"
   ]
  },
  {
   "cell_type": "code",
   "execution_count": null,
   "id": "widespread-durham",
   "metadata": {},
   "outputs": [],
   "source": [
    "include(\"../modules/antenna.jl\")\n",
    "include(\"../modules/geometry.jl\")\n",
    "include(\"../modules/scene.jl\")\n",
    "using ReferenceFrameRotations\n",
    "using LinearAlgebra\n",
    "using Plots\n",
    "\n",
    "# read in vpol grid\n",
    "vgrid = Antenna.AntGrid(\"../inputs/darts_ant_03192021.nc\");\n"
   ]
  },
  {
   "cell_type": "markdown",
   "id": "senior-saint",
   "metadata": {},
   "source": [
    "# Create SC geometry based on primitives and project pattern on the surface"
   ]
  },
  {
   "cell_type": "code",
   "execution_count": null,
   "id": "responsible-discipline",
   "metadata": {},
   "outputs": [],
   "source": [
    "#platform position and velocity\n",
    "P_pos = Geometry.geo_to_xyz([0, 0, 500e3]); #platform position in ECEF\n",
    "P_vel = [0, 0, 6e3]; #platform velocity\n",
    "\n",
    "#look angle\n",
    "θ_l = 0; \n",
    "side = \"left\";\n",
    "\n",
    "#Sign for look angle side\n",
    "lsgn(sd) = (sd == \"l\" || sd == \"left\") ? 1 : -1\n",
    "\n",
    "# target volume grid on surface defined in geodetic lat, lon, height (θϕh)\n",
    "t_θ=-2:.01:2 # deg\n",
    "t_ϕ=-2:.005:2 # deg\n",
    "t_h=0 # m target heights\n",
    "\n",
    "#try the two different methods for creating this\n",
    "@time t_geo_grid=Scene.form3Dgrid_for(t_θ,t_ϕ,t_h) # using 3 nested for loops \n",
    "\n",
    "#convert lat,lon,height grid to ECEF-xyz\n",
    "t_xyz_grid=Geometry.geo_to_xyz(t_geo_grid) # convert target volume from geo to xyz\n",
    "\n",
    "\n",
    "#get TCN frame to construct SC frame with\n",
    "t,c,n = Geometry.get_tcn(P_pos, P_vel)\n",
    "\n",
    "#create rotation quaternion from ECEF to tcn\n",
    "q_ecef_tcn = dcm_to_quat(DCM([t';c';n']))\n",
    "#create rotation quaternion from TCN to Ant frame\n",
    "q_tcn_ant = Geometry.quat(-90, [0,0,1]) #rotate about nhat (in tcn) to match long side with track vector\n",
    "q_ant_look = Geometry.quat(lsgn(side)*θ_l, [0,1,0]) #rotate about antenna y-hat (the long side) to the correct look angle \n",
    "q_ecef_ant = q_ecef_tcn* q_tcn_ant * q_ant_look \n",
    "\n",
    "#create look vector\n",
    "lvec = t_xyz_grid .- P_pos;\n",
    "lhat = lvec./norm.(eachcol(lvec))';\n",
    "\n",
    "#project look vector onto the antenna frame\n",
    "lhat_ant = zeros(3,size(lhat,2))\n",
    "@time for ii=1:size(lhat,2)\n",
    "    lhat_ant[:,ii] = Geometry.rotate_frame(lhat[:,ii], q_ecef_ant);\n",
    "end\n",
    "\n",
    "#interpolate antenna pattern\n",
    "cp,xp = Antenna.interpolate_pattern(vgrid, lhat_ant);\n",
    "cp = reshape(cp, length(t_ϕ), length(t_θ));\n",
    "xp = reshape(xp, length(t_ϕ), length(t_θ));\n",
    "\n",
    "\n",
    "# plot Magnitude\n",
    "p1 = heatmap(t_ϕ,t_θ, 20*log10.(abs.(cp')), \n",
    "    label = \"\", legend = :bottomleft, xlabel = \"Longitude (deg)\", ylabel = \"Latitude (deg)\",\n",
    "    title = \"V-copol Grid Magnitude\", clim=(-80,40), fill=true,aspect_ratio=:equal)\n",
    "p2 = heatmap(t_ϕ,t_θ, 20*log10.(abs.(xp')), \n",
    "    label = \"\", legend = :bottomleft, xlabel = \"Longitude (deg)\", ylabel = \"Latitude (deg)\",\n",
    "    title = \"V-crosspol Grid Magnitude\", clim=(-80,40), fill=true,aspect_ratio=:equal)\n",
    "\n",
    "plot(p1, p2, layout = (1,2))\n"
   ]
  },
  {
   "cell_type": "markdown",
   "id": "brief-infrared",
   "metadata": {},
   "source": [
    "## Use SpaceCraft and antenna wrappers to project antenna patterns from the SimSetup module"
   ]
  },
  {
   "cell_type": "code",
   "execution_count": null,
   "id": "bibliographic-hybrid",
   "metadata": {},
   "outputs": [],
   "source": [
    "include(\"../modules/simsetup.jl\")\n",
    "\n",
    "P_vel = [0, 6e3, 0]; #platform velocity ECEF\n",
    "\n",
    "#create antenna structure \n",
    "ant = SimSetup.sc_ant(vgrid); #additional arguments are rotation and origin \n",
    "\n",
    "#create spacecraft structure\n",
    "sc = SimSetup.spacecraft(P_pos, P_vel, ant = ant, look_angle = 25, side = \"right\"); #ant, look_angle, side are optional\n",
    "\n",
    "#inteprolate pattern\n",
    "cp,xp = SimSetup.interpolate_pattern(sc, t_xyz_grid);\n",
    "\n",
    "#reshape and plot\n",
    "cp = reshape(cp, length(t_ϕ), length(t_θ));\n",
    "xp = reshape(xp, length(t_ϕ), length(t_θ));\n",
    "\n",
    "\n",
    "# plot Magnitude\n",
    "p1 = heatmap(t_ϕ,t_θ, 20*log10.(abs.(cp')), \n",
    "    label = \"\", legend = :bottomleft, xlabel = \"Longitude (deg)\", ylabel = \"Latitude (deg)\",\n",
    "    title = \"V-copol Grid Magnitude\", clim=(-80,40), fill=true,aspect_ratio=:equal)\n",
    "p2 = heatmap(t_ϕ,t_θ, 20*log10.(abs.(xp')), \n",
    "    label = \"\", legend = :bottomleft, xlabel = \"Longitude (deg)\", ylabel = \"Latitude (deg)\",\n",
    "    title = \"V-crosspol Grid Magnitude\", clim=(-80,40), fill=true,aspect_ratio=:equal)\n",
    "\n",
    "plot(p1, p2, layout = (1,2))\n"
   ]
  },
  {
   "cell_type": "markdown",
   "id": "secret-poster",
   "metadata": {},
   "source": [
    "## Rotate spacecraft using a quaterion and interpolate patterns"
   ]
  },
  {
   "cell_type": "code",
   "execution_count": null,
   "id": "engaging-lying",
   "metadata": {},
   "outputs": [],
   "source": [
    "P_vel = [0, 6e3, 0]\n",
    "\n",
    "#create spacecraft structure\n",
    "sc = SimSetup.spacecraft(P_pos, P_vel, ant = ant, look_angle = 0, side = side); #ant, look_angle, side are optional\n",
    "\n",
    "\n",
    "#Roll spacecraft - this via quaternion\n",
    "SimSetup.rotate_spacecraft!(sc, Geometry.quat(10, [0,0,1]))\n",
    "\n",
    "#inteprolate pattern\n",
    "cp,xp = SimSetup.interpolate_pattern(sc, t_xyz_grid);\n",
    "\n",
    "#reshape and plot\n",
    "cp = reshape(cp, length(t_ϕ), length(t_θ));\n",
    "xp = reshape(xp, length(t_ϕ), length(t_θ));\n",
    "\n",
    "\n",
    "# plot Magnitude\n",
    "p1 = heatmap(t_ϕ,t_θ, 20*log10.(abs.(cp')), \n",
    "    label = \"\", legend = :bottomleft, xlabel = \"Longitude (deg)\", ylabel = \"Latitude (deg)\",\n",
    "    title = \"V-copol Grid Magnitude\", clim=(-80,40), fill=true,aspect_ratio=:equal)\n",
    "p2 = heatmap(t_ϕ,t_θ, 20*log10.(abs.(xp')), \n",
    "    label = \"\", legend = :bottomleft, xlabel = \"Longitude (deg)\", ylabel = \"Latitude (deg)\",\n",
    "    title = \"V-crosspol Grid Magnitude\", clim=(-80,40), fill=true,aspect_ratio=:equal)\n",
    "\n",
    "plot(p1, p2, layout = (1,2))\n"
   ]
  },
  {
   "cell_type": "markdown",
   "id": "latest-barrier",
   "metadata": {},
   "source": [
    "## Rotate spacecraft using rpy vectors and interpolate patterns"
   ]
  },
  {
   "cell_type": "code",
   "execution_count": null,
   "id": "catholic-possession",
   "metadata": {},
   "outputs": [],
   "source": [
    "\n",
    "P_vel = [0, 6e3, 0]\n",
    "\n",
    "#create spacecraft structure\n",
    "sc = SimSetup.spacecraft(P_pos, P_vel, ant = ant, look_angle = 10, side = side); #ant, look_angle, side are optional\n",
    "\n",
    "\n",
    "#Roll spacecraft - via roll,pitch,yaw in that order (rpy are wrt tcn axes)\n",
    "SimSetup.rotate_spacecraft!(sc, [10., 0., 10.]) #this is [r, p,y]\n",
    "\n",
    "#inteprolate pattern\n",
    "cp,xp = SimSetup.interpolate_pattern(sc, t_xyz_grid);\n",
    "\n",
    "#reshape and plot\n",
    "cp = reshape(cp, length(t_ϕ), length(t_θ));\n",
    "xp = reshape(xp, length(t_ϕ), length(t_θ));\n",
    "\n",
    "\n",
    "# plot Magnitude\n",
    "p1 = heatmap(t_ϕ,t_θ, 20*log10.(abs.(cp')), \n",
    "    label = \"\", legend = :bottomleft, xlabel = \"Longitude (deg)\", ylabel = \"Latitude (deg)\",\n",
    "    title = \"V-copol Grid Magnitude\", clim=(-80,40), fill=true,aspect_ratio=:equal)\n",
    "p2 = heatmap(t_ϕ,t_θ, 20*log10.(abs.(xp')), \n",
    "    label = \"\", legend = :bottomleft, xlabel = \"Longitude (deg)\", ylabel = \"Latitude (deg)\",\n",
    "    title = \"V-crosspol Grid Magnitude\", clim=(-80,40), fill=true,aspect_ratio=:equal)\n",
    "\n",
    "plot(p1, p2, layout = (1,2))\n"
   ]
  },
  {
   "cell_type": "markdown",
   "id": "prostate-scanner",
   "metadata": {},
   "source": [
    "## Rotate antenna using quaternion and interpolate patterns"
   ]
  },
  {
   "cell_type": "code",
   "execution_count": null,
   "id": "sufficient-function",
   "metadata": {},
   "outputs": [],
   "source": [
    "P_vel = [0, 6e3, 0]\n",
    "\n",
    "#create spacecraft structure\n",
    "sc = SimSetup.spacecraft(P_pos, P_vel, ant = ant, look_angle = 0, side = side); #ant, look_angle, side are optional\n",
    "\n",
    "\n",
    "#Roll antenna - via quaternion\n",
    "SimSetup.rotate_antenna!(sc.ant, Geometry.quat(10, [0,0,1]))\n",
    "\n",
    "#inteprolate pattern\n",
    "cp,xp = SimSetup.interpolate_pattern(sc, t_xyz_grid);\n",
    "\n",
    "#reshape and plot\n",
    "cp = reshape(cp, length(t_ϕ), length(t_θ));\n",
    "xp = reshape(xp, length(t_ϕ), length(t_θ));\n",
    "\n",
    "\n",
    "# plot Magnitude\n",
    "p1 = heatmap(t_ϕ,t_θ, 20*log10.(abs.(cp')), \n",
    "    label = \"\", legend = :bottomleft, xlabel = \"Longitude (deg)\", ylabel = \"Latitude (deg)\",\n",
    "    title = \"V-copol Grid Magnitude\", clim=(-80,40), fill=true,aspect_ratio=:equal)\n",
    "p2 = heatmap(t_ϕ,t_θ, 20*log10.(abs.(xp')), \n",
    "    label = \"\", legend = :bottomleft, xlabel = \"Longitude (deg)\", ylabel = \"Latitude (deg)\",\n",
    "    title = \"V-crosspol Grid Magnitude\", clim=(-80,40), fill=true,aspect_ratio=:equal)\n",
    "\n",
    "plot(p1, p2, layout = (1,2))"
   ]
  },
  {
   "cell_type": "code",
   "execution_count": null,
   "id": "loose-discussion",
   "metadata": {},
   "outputs": [],
   "source": []
  }
 ],
 "metadata": {
  "kernelspec": {
   "display_name": "Julia 1.5.3",
   "language": "julia",
   "name": "julia-1.5"
  },
  "language_info": {
   "file_extension": ".jl",
   "mimetype": "application/julia",
   "name": "julia",
   "version": "1.5.3"
  }
 },
 "nbformat": 4,
 "nbformat_minor": 5
}
