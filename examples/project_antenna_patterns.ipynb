{
 "cells": [
  {
   "cell_type": "markdown",
   "id": "understanding-chile",
   "metadata": {},
   "source": [
    "## project antenna pattern on the ellipsoid"
   ]
  },
  {
   "cell_type": "code",
   "execution_count": null,
   "id": "happy-negative",
   "metadata": {},
   "outputs": [],
   "source": [
    "include(\"../modules/antenna.jl\")\n",
    "\n",
    "# read in vpol grid\n",
    "vgrid = Antenna.AntGrid(\"../inputs/darts_ant_03192021.nc\");\n",
    "\n"
   ]
  }
 ],
 "metadata": {
  "kernelspec": {
   "display_name": "Julia 1.5.3",
   "language": "julia",
   "name": "julia-1.5"
  },
  "language_info": {
   "file_extension": ".jl",
   "mimetype": "application/julia",
   "name": "julia",
   "version": "1.5.3"
  }
 },
 "nbformat": 4,
 "nbformat_minor": 5
}
