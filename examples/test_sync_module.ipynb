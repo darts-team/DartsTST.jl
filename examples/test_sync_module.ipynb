{
 "cells": [
  {
   "cell_type": "code",
   "execution_count": null,
   "metadata": {},
   "outputs": [],
   "source": [
    "# This code shows example function calls and walks through Sync Module Code. It loads in the current parameter files\n",
    "# and the module code. Code here will walk through the \"main\" function and call the helper functions in \"sync.jl\"\n",
    "\n",
    "include(\"../modules/generate_raw_data.jl\")\n",
    "include(\"../modules/process_raw_data.jl\")\n",
    "include(\"../modules/geometry.jl\")\n",
    "include(\"../modules/scene.jl\")\n",
    "#include(\"inputs/input_parameters_LLH_nadirlooking.jl\")\n",
    "#include(\"inputs/input_parameters_LLH_slantlooking.jl\")\n",
    "include(\"../inputs/input_parameters_SCH_lookangle.jl\")\n",
    "include(\"../modules/range_spread_function.jl\") # as RSF\n",
    "include(\"../modules/orbits.jl\")\n",
    "include(\"../modules/sync.jl\")\n",
    "include(\"../modules/error_sources.jl\")\n",
    "\n",
    "using NCDatasets\n",
    "using Statistics\n",
    "using Plots\n",
    "\n",
    "## PLATFORM LOCATIONS\n",
    "orbit_filename=\"../inputs/orbitOutput_082020.nc\" # position in km, time in sec\n",
    "# orbit_dataset=Dataset(\"inputs/\"*orbit_filename) # Read orbits data in NetCDF format\n",
    "orbit_dataset=Dataset(orbit_filename) # Read orbits data in NetCDF format\n",
    "\n",
    "t12_orbits=orbit_dataset[\"time\"][1:2] # first two time samples\n",
    "dt_orbits=t12_orbits[2]-t12_orbits[1] # time resolution of orbits (s)\n",
    "orbit_time_index=(Int(round(SAR_start_time/dt_orbits))+1:1:Int(round((SAR_start_time+SAR_duration)/dt_orbits))+1) # index range for orbit times for time interval of interest\n",
    "orbit_time=orbit_dataset[\"time\"][orbit_time_index] # read in time data\n",
    "orbit_pos=orbit_dataset[\"position\"][:,:,orbit_time_index] # read in position data #TODO convert ECI to ECEF?\n",
    "slow_time=(SAR_start_time:1/fp:SAR_start_time+SAR_duration) # create slow time axis\n",
    "orbit_pos_interp=Orbits.interp_orbit(orbit_time,orbit_pos,slow_time) # interpolate orbit to slow time\n",
    "p_xyz=1e3*orbit_pos_interp # convert km to m\n",
    "Np=size(orbit_pos)[2] # number of platforms\n",
    "Nst=size(slow_time)[1] # number of slow-time samples (pulses processed)\n",
    "# test plot of orbits\n",
    "plot(slow_time, orbit_pos_interp[:,1,:]', xaxis=(\"time (sec)\"), ylabel=(\"ECEF position (km)\"))\n"
   ]
  },
  {
   "cell_type": "code",
   "execution_count": null,
   "metadata": {},
   "outputs": [],
   "source": [
    "## TARGET/SCENE LOCATIONS\n",
    "targets,Nt=Scene.construct_targets_str(target_pos_mode,t_loc_1,t_loc_2,t_loc_3,t_ref) # Nt: number of targets, targets: structure array containing target locations and reflectivities\n",
    "targets_loc=zeros(3,Nt);for i=1:Nt;targets_loc[:,i]=targets[i].loc;end # 3xN\n",
    "s_loc_3xN=Scene.form3Dgrid_for(s_loc_1,s_loc_2,s_loc_3) # using 3 nested for loops\n",
    "t_xyz_3xN,s_xyz_3xN=Scene.convert_target_scene_coord_to_XYZ(ts_coord_sys,s_loc_3xN,targets_loc,p_xyz,look_angle,p_avg_heading,earth_radius,earth_eccentricity)\n",
    "## TARGET REFLECTIVITIES\n",
    "targets_ref=zeros(1,Nt);for i=1:Nt;targets_ref[i]=targets[i].ref;end\n",
    "\n",
    "## RANGE SPREAD FUNCTION (matched filter output)\n",
    "min_range,max_range=Geometry.find_min_max_range(t_xyz_3xN,p_xyz)\n",
    "Trx=2*(max_range-min_range)/c+2*pulse_length # s duration of RX window\n",
    "if enable_fast_time # matched filter gain is included in Srx\n",
    "    Srx,MF,ft,t_rx=RSF.ideal_RSF(pulse_length,Δt,bandwidth,Trx) # Srx: RX window with MF centered, MF: ideal matched filter output (range spread function, RSF) for LFM pulse, ft: fast-time axis for MF, t_rx: RX window\n",
    "    # Srx,MF,ft,t_rx=RSF.non_ideal_RSF(pulse_length,Δt,bandwidth,Trx,SFR,window_type) # TODO non-ideal RSF for LFM pulse with system complex frequency response (SFR) and fast-time windowing\n",
    "end\n"
   ]
  },
  {
   "cell_type": "code",
   "execution_count": null,
   "metadata": {
    "scrolled": false
   },
   "outputs": [],
   "source": [
    "## GENERATE RAW DATA\n",
    "ref_range=Geometry.distance(mean(t_xyz_3xN,dims=2),mean(mean(p_xyz,dims=2),dims=3)) # reference range (equal to slant_range in sch?)\n",
    "if enable_fast_time # with fastime and slowtime; matched filter gain is included in Srx\n",
    "    rawdata=Generate_Raw_Data.main_RSF_slowtime(t_xyz_3xN,p_xyz,mode,tx_el,fc,Srx,t_rx,ref_range,targets_ref) # rawdata is a: 3D array of size Nst x Np x Nft (SAR/SIMO), 4D array of size Nst x Np(RX) x Np(TX) x Nft (MIMO)\n",
    "else # without fastime, with slowtime; matched filter gain is included inside the function\n",
    "    rawdata=Generate_Raw_Data.main_noRSF_slowtime(t_xyz_3xN,p_xyz,mode,tx_el,fc,targets_ref) # rawdata is a: 2D array of size Nst x Np (SAR/SIMO), 3D array of size Nst x Np(RX) x Np(TX) (MIMO)\n",
    "end\n",
    "if !enable_fast_time;SNR=SNR*pulse_length*bandwidth;end # SNR increases after matched filter\n",
    "if enable_thermal_noise;rawdata=Error_Sources.random_noise(rawdata,SNR,enable_fast_time,mode);end # adding random noise based on SNR after range (fast-time) processing\n"
   ]
  },
  {
   "cell_type": "code",
   "execution_count": null,
   "metadata": {},
   "outputs": [],
   "source": [
    "#here, instead of calling the error_sources sync function, we'll walk through the sync module functions\n",
    "# rawdata_sync = Error_Sources.synchronization_errors(rawdata,slow_time,orbit_pos_interp,enable_fast_time,parameters)\n",
    "include(\"../inputs/input_parameters_sync.jl\")\n",
    "using Interpolations\n",
    "using LinearAlgebra\n",
    "using FFTW\n",
    "using Plots\n",
    "using Distributed\n",
    "\n",
    "(phase_err, sync_PSDs) = Sync.get_sync_phase(slow_time, orbit_pos_interp, parameters);\n",
    "\n",
    "# phase_err are the output values that gets added to the raw data in the error_sources.jl module\n",
    "plot(slow_time,phase_err', xlabel = \"time (s)\", ylabel = \"Phase (rad)\",title = \"RF Phase Errors\")"
   ]
  },
  {
   "cell_type": "code",
   "execution_count": null,
   "metadata": {},
   "outputs": [],
   "source": [
    "# Now we can reuse the sync_PSDs that were previously calculated. For long SRI, this is a time saver\n",
    "include(\"../modules/sync.jl\")\n",
    "(phase_err2, sync_PSDs) = Sync.get_sync_phase(slow_time, orbit_pos_interp, parameters, sync_PSDs);\n",
    "\n",
    "# Note: because this is a new instantiation of the phase errors, the values are different! \n",
    "# But, the underlying PSD is the same\n",
    "plot(slow_time,phase_err2', xlabel = \"time (s)\", ylabel = \"Phase (rad)\",title = \"RF Phase Errors from Reused PSDs\")\n",
    "\n"
   ]
  }
 ],
 "metadata": {
  "kernelspec": {
   "display_name": "Julia 1.5.2",
   "language": "julia",
   "name": "julia-1.5"
  },
  "language_info": {
   "file_extension": ".jl",
   "mimetype": "application/julia",
   "name": "julia",
   "version": "1.5.2"
  }
 },
 "nbformat": 4,
 "nbformat_minor": 4
}
