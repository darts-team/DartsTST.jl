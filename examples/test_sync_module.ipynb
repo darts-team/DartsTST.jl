{
 "cells": [
  {
   "cell_type": "code",
   "execution_count": 1,
   "metadata": {},
   "outputs": [
    {
     "ename": "LoadError",
     "evalue": "could not open file /Users/loria/Documents/GitHub/darts-simtool/sync_helper_functions.jl",
     "output_type": "error",
     "traceback": [
      "could not open file /Users/loria/Documents/GitHub/darts-simtool/sync_helper_functions.jl",
      "",
      "Stacktrace:",
      " [1] include(::String) at ./client.jl:457",
      " [2] top-level scope at In[1]:8",
      " [3] include_string(::Function, ::Module, ::String, ::String) at ./loading.jl:1091",
      " [4] execute_code(::String, ::String) at /Users/loria/.julia/packages/IJulia/rWZ9e/src/execute_request.jl:27",
      " [5] execute_request(::ZMQ.Socket, ::IJulia.Msg) at /Users/loria/.julia/packages/IJulia/rWZ9e/src/execute_request.jl:86",
      " [6] #invokelatest#1 at ./essentials.jl:710 [inlined]",
      " [7] invokelatest at ./essentials.jl:709 [inlined]",
      " [8] eventloop(::ZMQ.Socket) at /Users/loria/.julia/packages/IJulia/rWZ9e/src/eventloop.jl:8",
      " [9] (::IJulia.var\"#15#18\")() at ./task.jl:356"
     ]
    }
   ],
   "source": [
    "# This code shows example function calls and walks through Sync Module Code. It loads in the current parameter files\n",
    "# and the module code. Code here will walk through the \"main\" function and call the helper functions in \"sync.jl\"\n",
    "\n",
    "# First section of code here will just load in parameters and orbits\n",
    "#Note: will need to change file locations to load in data\n",
    "include(\"/Users/loria/Documents/GitHub/darts-simtool/input_parameters_sync.jl\") # clock/sync system parameters\n",
    "include(\"/Users/loria/Documents/GitHub/darts-simtool/input_parameters_1.jl\") # radar system parameters\n",
    "include(\"/Users/loria/Documents/GitHub/darts-simtool/sync_helper_functions.jl\") # file with the ancillary functions for sync module\n",
    "\n",
    "#import Pkg # if not already installed\n",
    "#Pkg.add(\"Interpolations\")\n",
    "#Pkg.add(\"LinearAlgebra\")\n",
    "#Pkg.add(\"FFTW\")\n",
    "#Pkg.add(\"SatelliteToolbox\")\n",
    "#Pkg.add(\"NCDatasets\")\n",
    "#Pkg.add(\"Plots\")\n",
    "#Pkg.add(\"Dates\")\n",
    "\n",
    "using Interpolations\n",
    "using LinearAlgebra\n",
    "using FFTW\n",
    "using NCDatasets\n",
    "using Plots\n",
    "using Dates\n",
    "\n",
    "# Introduce orbit inputs... need positions and timing. Use example code from Razi (also interpolate to kHz-level radar PRI)\n",
    "include(\"/Users/loria/Documents/GitHub/darts-simtool/modules/orbits.jl\")\n",
    "\n",
    "\n",
    "\n",
    "# Create NetCDF data structure\n",
    "ds = Dataset(\"/Users/loria/Desktop/DARTS/Julia Codes/orbitOutput_082020.nc\");\n",
    "\n",
    "\n",
    "# read in time and position data\n",
    "read_samps = 1:1500;\n",
    "time_vector = ds[\"time\"][read_samps];\n",
    "pos = ds[\"position\"][:,:,read_samps];\n",
    "\n",
    "\n",
    "# verify size of position input and get number of platforms.\n",
    "szp = size(pos)\n",
    "@assert szp[1]==3 \"POS needs to be 3 x [Np x Nt] or 3 x Nt\"\n",
    "if ndims(pos) == 3\n",
    "    nplat = szp[2]\n",
    "    ntimes = szp[2]\n",
    "elseif ndims(pos) == 2\n",
    "    nplat = 1\n",
    "    ntimes = szp[2]\n",
    "end\n",
    "\n",
    "# test plot of orbits\n",
    "plot(time_vector, pos[:,1,:]', xaxis=(\"time (sec)\"), ylabel=(\"ECEF position (km)\"))\n",
    "\n",
    "# nominally I think we'd interpolate orbits (either before in orbits module or here) to the PRI times\n",
    "# for now, I'll just leave it at the original orbit sampling."
   ]
  },
  {
   "cell_type": "code",
   "execution_count": 2,
   "metadata": {},
   "outputs": [
    {
     "ename": "LoadError",
     "evalue": "UndefVarError: time_vector not defined",
     "output_type": "error",
     "traceback": [
      "UndefVarError: time_vector not defined",
      "",
      "Stacktrace:",
      " [1] top-level scope at In[2]:3",
      " [2] include_string(::Function, ::Module, ::String, ::String) at ./loading.jl:1091",
      " [3] execute_code(::String, ::String) at /Users/loria/.julia/packages/IJulia/rWZ9e/src/execute_request.jl:27",
      " [4] execute_request(::ZMQ.Socket, ::IJulia.Msg) at /Users/loria/.julia/packages/IJulia/rWZ9e/src/execute_request.jl:86",
      " [5] #invokelatest#1 at ./essentials.jl:710 [inlined]",
      " [6] invokelatest at ./essentials.jl:709 [inlined]",
      " [7] eventloop(::ZMQ.Socket) at /Users/loria/.julia/packages/IJulia/rWZ9e/src/eventloop.jl:8",
      " [8] (::IJulia.var\"#15#18\")() at ./task.jl:356"
     ]
    }
   ],
   "source": [
    "# Variables defined here are helpers in the sync module\n",
    "# find total elapsed time over the course of the orbits\n",
    "t_elapse = time_vector[end] - time_vector[1]\n",
    "sdradar_args_fs = round(clk_args_N/t_elapse) # upper bound of frequency in the PSD generation. Limited (i.e. selected) by the sync_pri\n",
    "clk_args_N = ceil(sdradar_args_fs*t_elapse)  # Number of sample points in the PSD. Needs to meet the length of min {1/sync_pri,t_elapse}\n",
    "m = fc/clk_args_f_osc;          # frequency up-conversion factor (scale factor from LO to RF)\n",
    "\n",
    "# sync module has if-else statement to consider a single platform. For this example we assume multiple platforms for the example"
   ]
  },
  {
   "cell_type": "code",
   "execution_count": 3,
   "metadata": {
    "scrolled": false
   },
   "outputs": [
    {
     "ename": "LoadError",
     "evalue": "UndefVarError: ntimes not defined",
     "output_type": "error",
     "traceback": [
      "UndefVarError: ntimes not defined",
      "",
      "Stacktrace:",
      " [1] top-level scope at In[3]:2",
      " [2] include_string(::Function, ::Module, ::String, ::String) at ./loading.jl:1091",
      " [3] execute_code(::String, ::String) at /Users/loria/.julia/packages/IJulia/rWZ9e/src/execute_request.jl:27",
      " [4] execute_request(::ZMQ.Socket, ::IJulia.Msg) at /Users/loria/.julia/packages/IJulia/rWZ9e/src/execute_request.jl:86",
      " [5] #invokelatest#1 at ./essentials.jl:710 [inlined]",
      " [6] invokelatest at ./essentials.jl:709 [inlined]",
      " [7] eventloop(::ZMQ.Socket) at /Users/loria/.julia/packages/IJulia/rWZ9e/src/eventloop.jl:8",
      " [8] (::IJulia.var\"#15#18\")() at ./task.jl:356"
     ]
    }
   ],
   "source": [
    "# create matrix of phase error values (allocate memory)\n",
    "phase_err = Complex(nplat,ntimes) # Nplatforms x Ntimes\n",
    "\n",
    "#for i = 1:nplat #for each platform, generate oscillator phase errors at each time point\n",
    "i=2 # only calculate second platform for example\n",
    "\n",
    "a_coeff_db = osc_coeffs[i,:] # grab the clock coefficients for each platform\n"
   ]
  },
  {
   "cell_type": "code",
   "execution_count": 4,
   "metadata": {},
   "outputs": [
    {
     "ename": "LoadError",
     "evalue": "UndefVarError: getSensorCRLB not defined",
     "output_type": "error",
     "traceback": [
      "UndefVarError: getSensorCRLB not defined",
      "",
      "Stacktrace:",
      " [1] top-level scope at In[4]:2",
      " [2] include_string(::Function, ::Module, ::String, ::String) at ./loading.jl:1091",
      " [3] execute_code(::String, ::String) at /Users/loria/.julia/packages/IJulia/rWZ9e/src/execute_request.jl:27",
      " [4] execute_request(::ZMQ.Socket, ::IJulia.Msg) at /Users/loria/.julia/packages/IJulia/rWZ9e/src/execute_request.jl:86",
      " [5] #invokelatest#1 at ./essentials.jl:710 [inlined]",
      " [6] invokelatest at ./essentials.jl:709 [inlined]",
      " [7] eventloop(::ZMQ.Socket) at /Users/loria/.julia/packages/IJulia/rWZ9e/src/eventloop.jl:8",
      " [8] (::IJulia.var\"#15#18\")() at ./task.jl:356"
     ]
    }
   ],
   "source": [
    "# find CRLB based on SNR of intersatellite link. Returns both crlb and the SNR matrices\n",
    "(sig_crlb, snr_dB) = getSensorCRLB(pos,sdradar_args_N,sdradar_args_fc,sdradar_args_fs,sdradar_args_fbw,master)\n",
    "\n",
    "#plot()\n",
    "plot(time_vector, sig_crlb[2,:].*1e9, xaxis=(\"time (sec)\"), ylabel=(\"CRLB\"))\n",
    "#plot(time_vector, snr_dB[2,:], xaxis=(\"time (sec)\"), ylabel=(\"SNR (dB)\"))\n",
    "\n",
    "\n"
   ]
  },
  {
   "cell_type": "code",
   "execution_count": 5,
   "metadata": {
    "scrolled": false
   },
   "outputs": [
    {
     "ename": "LoadError",
     "evalue": "UndefVarError: osc_psd_twosided not defined",
     "output_type": "error",
     "traceback": [
      "UndefVarError: osc_psd_twosided not defined",
      "",
      "Stacktrace:",
      " [1] top-level scope at In[5]:2",
      " [2] include_string(::Function, ::Module, ::String, ::String) at ./loading.jl:1091",
      " [3] execute_code(::String, ::String) at /Users/loria/.julia/packages/IJulia/rWZ9e/src/execute_request.jl:27",
      " [4] execute_request(::ZMQ.Socket, ::IJulia.Msg) at /Users/loria/.julia/packages/IJulia/rWZ9e/src/execute_request.jl:86",
      " [5] #invokelatest#1 at ./essentials.jl:710 [inlined]",
      " [6] invokelatest at ./essentials.jl:709 [inlined]",
      " [7] eventloop(::ZMQ.Socket) at /Users/loria/.julia/packages/IJulia/rWZ9e/src/eventloop.jl:8",
      " [8] (::IJulia.var\"#15#18\")() at ./task.jl:356"
     ]
    }
   ],
   "source": [
    "# here is the first call of a helper function, \"osc_psd_twosided.\" Generates PSD without the effects of synchronization\n",
    "(Sphi,f_psd) = osc_psd_twosided(sdradar_args_fs,clk_args_N,a_coeff_db)\n",
    "\n",
    "plot(f_psd,Sphi,xaxis=(\"frequency (Hz)\"), ylabel=(\"PSD Height\"))\n",
    "\n",
    "size(Sphi)\n"
   ]
  },
  {
   "cell_type": "code",
   "execution_count": 6,
   "metadata": {},
   "outputs": [
    {
     "ename": "LoadError",
     "evalue": "UndefVarError: sig_crlb not defined",
     "output_type": "error",
     "traceback": [
      "UndefVarError: sig_crlb not defined",
      "",
      "Stacktrace:",
      " [1] top-level scope at In[6]:4",
      " [2] include_string(::Function, ::Module, ::String, ::String) at ./loading.jl:1091",
      " [3] execute_code(::String, ::String) at /Users/loria/.julia/packages/IJulia/rWZ9e/src/execute_request.jl:27",
      " [4] execute_request(::ZMQ.Socket, ::IJulia.Msg) at /Users/loria/.julia/packages/IJulia/rWZ9e/src/execute_request.jl:86",
      " [5] #invokelatest#1 at ./essentials.jl:710 [inlined]",
      " [6] invokelatest at ./essentials.jl:709 [inlined]",
      " [7] eventloop(::ZMQ.Socket) at /Users/loria/.julia/packages/IJulia/rWZ9e/src/eventloop.jl:8",
      " [8] (::IJulia.var\"#15#18\")() at ./task.jl:356"
     ]
    }
   ],
   "source": [
    "# calls function to model sync effects on PSD\n",
    "# in the sync module we loop through this call to capture the sync for each platform. \n",
    "# Here, we're only showing a single call for one platform\n",
    "Sphi_sync = sync_effects_on_PSD(Sphi,f_psd,sync_radar_offset,sig_crlb[i,:],sync_pri,sdradar_args_fs)\n",
    "\n",
    "plot(f_psd,Sphi_sync,xaxis=(\"frequency (Hz)\"), ylabel=(\"PSD Height after Sync\"))"
   ]
  },
  {
   "cell_type": "code",
   "execution_count": 7,
   "metadata": {},
   "outputs": [
    {
     "ename": "LoadError",
     "evalue": "UndefVarError: osc_timeseries_from_psd_twosided not defined",
     "output_type": "error",
     "traceback": [
      "UndefVarError: osc_timeseries_from_psd_twosided not defined",
      "",
      "Stacktrace:",
      " [1] top-level scope at In[7]:2",
      " [2] include_string(::Function, ::Module, ::String, ::String) at ./loading.jl:1091",
      " [3] execute_code(::String, ::String) at /Users/loria/.julia/packages/IJulia/rWZ9e/src/execute_request.jl:27",
      " [4] execute_request(::ZMQ.Socket, ::IJulia.Msg) at /Users/loria/.julia/packages/IJulia/rWZ9e/src/execute_request.jl:86",
      " [5] #invokelatest#1 at ./essentials.jl:710 [inlined]",
      " [6] invokelatest at ./essentials.jl:709 [inlined]",
      " [7] eventloop(::ZMQ.Socket) at /Users/loria/.julia/packages/IJulia/rWZ9e/src/eventloop.jl:8",
      " [8] (::IJulia.var\"#15#18\")() at ./task.jl:356"
     ]
    }
   ],
   "source": [
    "# generate time series of phase error\n",
    "(r,t) = osc_timeseries_from_psd_twosided(Sphi_sync,sdradar_args_fs)\n",
    "\n",
    "# interpolate phase error to the measurement times\n",
    "itp = CubicSplineInterpolation(t, r) # create interpolant\n",
    "phase = itp(time_vector)             # interpolates to the time vector given by orbits module\n",
    "phase_err[i,:] = phase.*m            # scale by frequency up-conversion factor\n",
    "\n",
    "plot(time_vector,phase_err[i,:],xaxis=(\"Time (s)\"), ylabel=(\"Phase Error\"))\n",
    "\n",
    "# this phase error will be an input to generate_raw_data.jl \n",
    "# within generate_raw_data.jl, the phase error (after sync) is modeled as an extra term ...*exp(-im*phase_error)"
   ]
  }
 ],
 "metadata": {
  "kernelspec": {
   "display_name": "Julia 1.5.2",
   "language": "julia",
   "name": "julia-1.5"
  },
  "language_info": {
   "file_extension": ".jl",
   "mimetype": "application/julia",
   "name": "julia",
   "version": "1.5.3"
  }
 },
 "nbformat": 4,
 "nbformat_minor": 4
}
