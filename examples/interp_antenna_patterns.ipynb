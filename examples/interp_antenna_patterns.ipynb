{
 "cells": [
  {
   "cell_type": "markdown",
   "id": "metric-poetry",
   "metadata": {},
   "source": [
    "# How to interpolate Antenna Patterns"
   ]
  },
  {
   "cell_type": "code",
   "execution_count": null,
   "id": "furnished-skirt",
   "metadata": {},
   "outputs": [],
   "source": [
    "include(\"../modules/antenna.jl\")\n",
    "\n",
    "# read in vpol grid\n",
    "vgrid = Antenna.AntGrid(\"../inputs/darts_ant_03192021.nc\");\n",
    "\n",
    "# create grid to interpolate to\n",
    "elf = -2.5:.01:2.5; \n",
    "azf = -15:.01:15;\n",
    "fpt(x,y) = [-sind(x), cosd(x)sind(y), cosd(x)cosd(y)] #this is the Az over El grid definition\n",
    "lvec = hcat([fpt(x,y) for x in azf, y in elf]...); # meshgrid\n",
    "\n",
    "#interpolate the pattern\n",
    "cp,xp = Antenna.interpolate_pattern(vgrid, lvec);\n",
    "\n",
    "#reshape to plot\n",
    "cp = reshape(cp, length(azf), length(elf));\n",
    "xp = reshape(xp, length(azf), length(elf));\n",
    "\n",
    "println(size(cp));\n",
    "println(size(xp));\n"
   ]
  },
  {
   "cell_type": "markdown",
   "id": "neural-doctor",
   "metadata": {},
   "source": [
    "## plot the interpolated Antenna Patterns"
   ]
  },
  {
   "cell_type": "code",
   "execution_count": null,
   "id": "diagnostic-grave",
   "metadata": {},
   "outputs": [],
   "source": [
    "using Plots\n",
    "\n",
    "# plot Magnitude\n",
    "p1 = contour(elf, azf, 20*log10.(abs.(cp)), \n",
    "    label = \"\", legend = :bottomleft, xlabel = \"Elevation (deg)\", ylabel = \"Azimuth (deg)\",\n",
    "    title = \"V-copol Grid Magnitude\", clim=(-80,40), fill=true)\n",
    "p2 = contour(elf, azf, 20*log10.(abs.(xp)), \n",
    "    label = \"\", legend = :bottomleft, xlabel = \"Elevation (deg)\", ylabel = \"Azimuth (deg)\",\n",
    "    title = \"V-crosspol Grid Magnitude\", clim=(-80,40), fill=true)\n",
    "\n",
    "# plot Phase\n",
    "p3 = contour(elf, azf, 180/π*(angle.(cp)),\n",
    "    label = \"\", legend = :bottomleft, xlabel = \"Elevation (deg)\", ylabel = \"Azimuth (deg)\",\n",
    "    title = \"V-copol Grid Phase\", fill=true)\n",
    "p4 = contour(elf, azf, 180/π*(angle.(xp)),\n",
    "    label = \"\", legend = :bottomleft, xlabel = \"Elevation (deg)\", ylabel = \"Azimuth (deg)\",\n",
    "    title = \"V-crosspol Grid Phase\", fill=true)\n",
    "\n",
    "plot(p1, p2, p3, p4, layout = (2,2))"
   ]
  },
  {
   "cell_type": "markdown",
   "id": "abstract-puzzle",
   "metadata": {},
   "source": [
    "## read in, plot and interpolate H-pol grid pattern at a different frequency"
   ]
  },
  {
   "cell_type": "code",
   "execution_count": null,
   "id": "changing-attempt",
   "metadata": {},
   "outputs": [],
   "source": [
    "# read in hpol grid\n",
    "hgrid = Antenna.AntGrid(\"../inputs/darts_ant_03192021.nc\", \"Hpol\", [1.23, 1.25, 1.27]);\n",
    "\n",
    "# create grid to interpolate to\n",
    "elf = -2.5:.01:2.5; \n",
    "azf = -10:.01:10;\n",
    "fpt(x,y) = [-sind(x), cosd(x)sind(y), cosd(x)cosd(y)] #this is the Az over El grid definition\n",
    "lvec = hcat([fpt(x,y) for x in azf, y in elf]...); # meshgrid\n",
    "\n",
    "#interpolate the pattern at 1.265GHz\n",
    "cp,xp = Antenna.interpolate_pattern(hgrid, lvec, 1.265);\n",
    "\n",
    "#reshape to plot\n",
    "cp = reshape(cp, length(azf), length(elf));\n",
    "xp = reshape(xp, length(azf), length(elf));\n",
    "\n",
    "\n",
    "# plot Magnitude\n",
    "p1 = contour(elf, azf, 20*log10.(abs.(cp)), \n",
    "    label = \"\", legend = :bottomleft, xlabel = \"Elevation (deg)\", ylabel = \"Azimuth (deg)\",\n",
    "    title = \"H-copol Grid Magnitude\", clim=(-80,40), fill=true)\n",
    "p2 = contour(elf, azf, 20*log10.(abs.(xp)), \n",
    "    label = \"\", legend = :bottomleft, xlabel = \"Elevation (deg)\", ylabel = \"Azimuth (deg)\",\n",
    "    title = \"H-crosspol Grid Magnitude\", clim=(-80,40), fill=true)\n",
    "\n",
    "# plot Phase\n",
    "p3 = contour(elf, azf, 180/π*(angle.(cp)),\n",
    "    label = \"\", legend = :bottomleft, xlabel = \"Elevation (deg)\", ylabel = \"Azimuth (deg)\",\n",
    "    title = \"H-copol Grid Phase\", fill=true)\n",
    "p4 = contour(elf, azf, 180/π*(angle.(xp)),\n",
    "    label = \"\", legend = :bottomleft, xlabel = \"Elevation (deg)\", ylabel = \"Azimuth (deg)\",\n",
    "    title = \"H-crosspol Grid Phase\", fill=true)\n",
    "\n",
    "plot(p1, p2, p3, p4, layout = (2,2))\n"
   ]
  },
  {
   "cell_type": "markdown",
   "id": "right-machinery",
   "metadata": {},
   "source": [
    "# Interpolate Cuts along principal axes"
   ]
  },
  {
   "cell_type": "code",
   "execution_count": null,
   "id": "current-detection",
   "metadata": {},
   "outputs": [],
   "source": [
    "include(\"../modules/antenna.jl\")\n",
    "using Plots\n",
    "\n",
    "# read in vpol cuts\n",
    "vcut = Antenna.AntCuts(\"../inputs/darts_ant_03192021.nc\");\n",
    "\n",
    "# create cuts to interpolate to\n",
    "elf = -5:.01:5; \n",
    "azf = -20:.01:20;\n",
    "fpt(x,y) = [-sind(x), cosd(x)sind(y), cosd(x)cosd(y)] #this is the Az over El grid definition\n",
    "lvec_el = hcat([fpt(0,y) for y in elf]...); \n",
    "lvec_az = hcat([fpt(x,0) for x in azf]...); \n",
    "\n",
    "#interpolate the patterns - note interpolating crosspol from arbitary point does not make sense\n",
    "el_cp = Antenna.interpolate_pattern(vcut, lvec_el);\n",
    "az_cp = Antenna.interpolate_pattern(vcut, lvec_az);\n",
    "\n",
    "\n",
    "\n",
    "# plot Az Magnitude\n",
    "p1 = plot(azf, 20*log10.(abs.(az_cp)), \n",
    "    xlabel = \"Azimuth (deg)\", ylabel = \"Magnitude (dB)\", label=\"\",\n",
    "    legend = :bottomleft, title = \"Vpol Azimuth Magnitude\")\n",
    "\n",
    "# plot Az Phase\n",
    "p2 = plot(azf, 180/π*(angle.(az_cp)), \n",
    "    label = \"\", xlabel = \"Azimuth (deg)\", \n",
    "    ylabel = \"Phase (deg)\", title = \"Vpol Azimuth Phase\")\n",
    "\n",
    "\n",
    "# plot El Magnitude\n",
    "p3 = plot(elf, 20*log10.(abs.(el_cp)), \n",
    "    xlabel = \"Elevation (deg)\", ylabel = \"Magnitude (dB)\", label=\"\",\n",
    "    title = \"Vpol Elevation Magnitude\")\n",
    "\n",
    "# plot Phase\n",
    "p4 = plot(elf, 180/π*(angle.(el_cp)), \n",
    "    label = \"\", xlabel = \"Elevation (deg)\", ylabel = \"Phase (deg)\", \n",
    "    title = \"Vpol Elevation Phase\")\n",
    "\n",
    "\n",
    "plot(p1, p2, p3, p4, layout = (2,2))\n"
   ]
  },
  {
   "cell_type": "markdown",
   "id": "dramatic-romantic",
   "metadata": {},
   "source": [
    "## Approximately Interpolate Cuts to a Grid"
   ]
  },
  {
   "cell_type": "code",
   "execution_count": null,
   "id": "alpine-victor",
   "metadata": {},
   "outputs": [],
   "source": [
    "\n",
    "# create grid to interpolate to\n",
    "elf = -2.5:.1:2.5; \n",
    "azf = -15:.1:15;\n",
    "fpt(x,y) = [-sind(x), cosd(x)sind(y), cosd(x)cosd(y)] #this is the Az over El grid definition\n",
    "lvec = hcat([fpt(x,y) for x in azf, y in elf]...); # meshgrid\n",
    "\n",
    "\n",
    "#interpolate the patterns - note interpolating crosspol from arbitary point does not make sense\n",
    "cp = Antenna.interpolate_pattern(vcut, lvec);\n",
    "\n",
    "#reshape to plot\n",
    "cp = reshape(cp, length(azf), length(elf));\n",
    "\n",
    "\n",
    "# plot Magnitude\n",
    "p1 = contour(elf, azf, 20*log10.(abs.(cp)), \n",
    "    label = \"\", legend = :bottomleft, xlabel = \"Elevation (deg)\", ylabel = \"Azimuth (deg)\",\n",
    "    title = \"V-copol Cut->Grid Magnitude\", clim=(-80,40), fill=true)\n",
    "\n",
    "# plot Phase\n",
    "p2 = contour(elf, azf, 180/π*(angle.(cp)),\n",
    "    label = \"\", legend = :bottomleft, xlabel = \"Elevation (deg)\", ylabel = \"Azimuth (deg)\",\n",
    "    title = \"V-copol Cut->Grid Phase\", fill=true)\n",
    "\n",
    "plot(p1, p2, layout = (1,2))\n"
   ]
  }
 ],
 "metadata": {
  "kernelspec": {
   "display_name": "Julia 1.5.3",
   "language": "julia",
   "name": "julia-1.5"
  },
  "language_info": {
   "file_extension": ".jl",
   "mimetype": "application/julia",
   "name": "julia",
   "version": "1.5.3"
  }
 },
 "nbformat": 4,
 "nbformat_minor": 5
}
