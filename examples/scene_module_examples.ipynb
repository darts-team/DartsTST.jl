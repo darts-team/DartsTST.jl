{
 "cells": [
  {
   "cell_type": "markdown",
   "id": "cooperative-block",
   "metadata": {},
   "source": [
    "## Demonstrate Various scene module functions"
   ]
  },
  {
   "cell_type": "code",
   "execution_count": null,
   "id": "continuous-cursor",
   "metadata": {},
   "outputs": [],
   "source": [
    "include(\"../modules/geometry.jl\")\n",
    "include(\"../modules/scene.jl\")\n",
    "using Plots\n",
    "pyplot()\n",
    "\n",
    "## planetary shape constants\n",
    "earth_radius=6378.137e3\n",
    "earth_eccentricity=sqrt(0.00669437999015)\n",
    "\n",
    "# target volume grid on surface defined in geodetic lat, lon, height (θϕh)\n",
    "t_θ=-90:2:90 # deg\n",
    "t_ϕ=-180:4:180 # deg\n",
    "t_h=0:100:9000 # m target heights\n",
    "\n",
    "#try the two different methods for creating this\n",
    "@time t_geo_grid=Scene.form3Dgrid_for(t_θ,t_ϕ,t_h) # using 3 nested for loops \n",
    "@time t_geo_grid=Scene.form3Dgrid_array(t_θ,t_ϕ,t_h) # using array processing\n",
    "\n",
    "#convert lat,lon,height grid to ECEF-xyz\n",
    "t_xyz_grid=Geometry.geo_to_xyz(t_geo_grid) # convert target volume from geo to xyz\n",
    "\n",
    "# plot the target grid \n",
    "scatter(t_xyz_grid[1,:],t_xyz_grid[2,:],t_xyz_grid[3,:],camera=(0,0),\n",
    "        markersize=0.1)#display grid in 3D\n"
   ]
  },
  {
   "cell_type": "markdown",
   "id": "incoming-techno",
   "metadata": {},
   "source": [
    "## Define target volume using relative azimuth, elevation and height"
   ]
  },
  {
   "cell_type": "code",
   "execution_count": null,
   "id": "roman-municipality",
   "metadata": {},
   "outputs": [],
   "source": [
    "\n",
    "#define target-grid limits\n",
    "el  = 0:1:30 # elevation angles (deg)\n",
    "az  = -180:10:180 # azimuth angles (deg)\n",
    "hgt = 0:10:200 # target heights (m)\n",
    "\n",
    "#create grid based on az,el,hgt\n",
    "@time target_grid = Scene.form3Dgrid_for(az,el,hgt) # using 3 nested for loops\n",
    "\n",
    "#platform location in geodetic coordinates\n",
    "platform_geo = [10,50,6000e3] # platform latitude, longitude, altitude [deg,deg,m]\n",
    "\n",
    "#create peg point\n",
    "γ   = 0 # deg track angle (heading), 0 deg is north, 90 deg is east\n",
    "peg = Geometry.PegPoint(platform_geo[1],platform_geo[2],γ) # deg peg point is the nadir point of platform at the center of SAR aperture\n",
    "\n",
    "ecef_target_grid = Scene.lookh_to_xyz(target_grid,platform_geo,peg) # convert target volume from relative look vector to xyz\n",
    "\n",
    "#display 3D grid\n",
    "scatter(ecef_target_grid[1,:],ecef_target_grid[2,:],ecef_target_grid[3,:], markersize=0.5)\n"
   ]
  },
  {
   "cell_type": "markdown",
   "id": "declared-implementation",
   "metadata": {},
   "source": [
    "# Define target valume based on C,H (from SCH) and azimuth angle"
   ]
  },
  {
   "cell_type": "code",
   "execution_count": null,
   "id": "relative-trout",
   "metadata": {},
   "outputs": [],
   "source": [
    "# target volume grid on surface defined in ch (of sch) and azimuth rotation angles (rotated around platform position vector)\n",
    "t_c  = 1e6:5e5:5e6 # m target positions in c of sch\n",
    "t_h  = 0:1e5:5e5 # m target heights\n",
    "rot_P=-20:.5:20#-60:10:60 # deg rotation angles around platform position vector\n",
    "\n",
    "#define platform lat,lon,hgt\n",
    "platform_geo = [60,-30,500e3] #(deg, deg, m)\n",
    "\n",
    "#create Peg point\n",
    "γ   = 0 # deg track angle (heading), 0 deg is north, 90 deg is east\n",
    "peg = Geometry.PegPoint(platform_geo[1],platform_geo[2],γ) # peg point is the nadir point of platform at the center of SAR aperture\n",
    "\n",
    "#create XYZ grid based on C,H,Az\n",
    "t_xyz_grid_rot=Scene.chP_to_xyz_grid(t_c,t_h,rot_P,platform_geo, peg)# convert target volume from geo to xyz\n",
    "\n",
    "#plot the ECEF grid\n",
    "scatter(t_xyz_grid_rot[1,:],t_xyz_grid_rot[2,:],t_xyz_grid_rot[3,:],camera=(30,30),markersize=1)\n"
   ]
  }
 ],
 "metadata": {
  "kernelspec": {
   "display_name": "Julia 1.5.3",
   "language": "julia",
   "name": "julia-1.5"
  },
  "language_info": {
   "file_extension": ".jl",
   "mimetype": "application/julia",
   "name": "julia",
   "version": "1.5.3"
  }
 },
 "nbformat": 4,
 "nbformat_minor": 5
}
